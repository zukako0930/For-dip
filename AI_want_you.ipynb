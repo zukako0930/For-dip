{
 "cells": [
  {
   "cell_type": "code",
   "execution_count": 1,
   "metadata": {
    "collapsed": false
   },
   "outputs": [
    {
     "ename": "NameError",
     "evalue": "name 'screen_name' is not defined",
     "output_type": "error",
     "traceback": [
      "\u001b[0;31m---------------------------------------------------------------------------\u001b[0m",
      "\u001b[0;31mNameError\u001b[0m                                 Traceback (most recent call last)",
      "\u001b[0;32m<ipython-input-1-f92c1343c9ea>\u001b[0m in \u001b[0;36m<module>\u001b[0;34m()\u001b[0m\n\u001b[1;32m     34\u001b[0m     \u001b[0;32mreturn\u001b[0m \u001b[0mfavolist\u001b[0m\u001b[0;34m\u001b[0m\u001b[0m\n\u001b[1;32m     35\u001b[0m \u001b[0;34m\u001b[0m\u001b[0m\n\u001b[0;32m---> 36\u001b[0;31m \u001b[0mfavolist\u001b[0m \u001b[0;34m=\u001b[0m \u001b[0mhome_line\u001b[0m\u001b[0;34m(\u001b[0m\u001b[0mscreen_name\u001b[0m\u001b[0;34m)\u001b[0m\u001b[0;34m\u001b[0m\u001b[0m\n\u001b[0m\u001b[1;32m     37\u001b[0m \u001b[0;34m\u001b[0m\u001b[0m\n\u001b[1;32m     38\u001b[0m \u001b[0mave\u001b[0m \u001b[0;34m=\u001b[0m \u001b[0msum\u001b[0m\u001b[0;34m(\u001b[0m\u001b[0mfavolist\u001b[0m\u001b[0;34m)\u001b[0m\u001b[0;34m/\u001b[0m\u001b[0mlen\u001b[0m\u001b[0;34m(\u001b[0m\u001b[0mfavolist\u001b[0m\u001b[0;34m)\u001b[0m\u001b[0;34m\u001b[0m\u001b[0m\n",
      "\u001b[0;31mNameError\u001b[0m: name 'screen_name' is not defined"
     ]
    }
   ],
   "source": [
    "#!/usr/bin/env python\n",
    "# -*- coding: utf-8 -*-\n",
    "#for mongodb\n",
    "#get json\n",
    "\n",
    "\n",
    "from requests_oauthlib import OAuth1Session\n",
    "from collections import defaultdict\n",
    "import json\n",
    "\n",
    "CK = '3rJOl1ODzm9yZy63FACdg'                             # Consumer Key\n",
    "CS = '5jPoQ5kQvMJFDYRNE8bQ4rHuds4xJqhvgNJM4awaE8'         # Consumer Secret\n",
    "AT = '2956677620-D7KuhxlChnM27XgQ9WoFJR4haZuTPgTnBVrKe1K' # Access Token\n",
    "AS = '2qTkh1PC1OIL6rCPyNKUnmHV8Rf70XCODczCTFdp5n1uq'         # Accesss Token Secert\n",
    "twitter = OAuth1Session(CK, CS, AT, AS)\n",
    "\n",
    "def home_line(screen_name= \"12satouT\"):\n",
    "    url = \"https://api.twitter.com/1.1/statuses/user_timeline.json\"\n",
    "#     url = \"https://api.twitter.com/1.1/statuses/mentions_timeline.json\"\n",
    "    favolist = []\n",
    "    \n",
    "    params = {\n",
    "        \"screen_name\": screen_name,\n",
    "#         \"count\": ,\n",
    "        \"include_entities\": True,\n",
    "    }\n",
    "    req = twitter.get(url, params=params)\n",
    "    result_2 = json.loads(req.text)\n",
    "    for repcount in result_2:\n",
    "#         print(repcount)\n",
    "        if  '@' not in repcount['text']:\n",
    "            favolist.append(repcount['favorite_count'])\n",
    "    # uni_tweet = tweet.decode('utf-8')\n",
    "    return favolist\n",
    "\n",
    "favolist = home_line(screen_name)\n",
    "\n",
    "ave = sum(favolist)/len(favolist)\n",
    "ave"
   ]
  },
  {
   "cell_type": "code",
   "execution_count": 32,
   "metadata": {
    "collapsed": false
   },
   "outputs": [
    {
     "name": "stdout",
     "output_type": "stream",
     "text": [
      "[1, 6, 17, 4, 16, 12, 7, 12, 2]\n"
     ]
    },
    {
     "data": {
      "text/plain": [
       "8.555555555555555"
      ]
     },
     "execution_count": 32,
     "metadata": {},
     "output_type": "execute_result"
    }
   ],
   "source": [
    "screen_name = '12satouT'\n",
    "a = home_line(screen_name)\n",
    "print(a)\n",
    "\n",
    "ave = sum(a)/len(a)\n",
    "ave"
   ]
  },
  {
   "cell_type": "code",
   "execution_count": 27,
   "metadata": {
    "collapsed": false
   },
   "outputs": [
    {
     "data": {
      "text/plain": [
       "'12satouT'"
      ]
     },
     "execution_count": 27,
     "metadata": {},
     "output_type": "execute_result"
    }
   ],
   "source": [
    "screen_name"
   ]
  },
  {
   "cell_type": "code",
   "execution_count": null,
   "metadata": {
    "collapsed": true
   },
   "outputs": [],
   "source": []
  }
 ],
 "metadata": {
  "kernelspec": {
   "display_name": "Python 3",
   "language": "python",
   "name": "python3"
  },
  "language_info": {
   "codemirror_mode": {
    "name": "ipython",
    "version": 3
   },
   "file_extension": ".py",
   "mimetype": "text/x-python",
   "name": "python",
   "nbconvert_exporter": "python",
   "pygments_lexer": "ipython3",
   "version": "3.6.0"
  }
 },
 "nbformat": 4,
 "nbformat_minor": 2
}
