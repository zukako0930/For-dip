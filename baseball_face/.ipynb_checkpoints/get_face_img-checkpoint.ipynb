{
 "cells": [
  {
   "cell_type": "code",
   "execution_count": 2,
   "metadata": {
    "collapsed": false
   },
   "outputs": [],
   "source": [
    "#coding:utf-8 \n",
    "from bs4 import BeautifulSoup #bs4モジュールからBeautifulSoupクラスをインポートする\n",
    "import requests\n",
    "import csv\n",
    "import scrapelib"
   ]
  },
  {
   "cell_type": "code",
   "execution_count": null,
   "metadata": {
    "collapsed": true
   },
   "outputs": [],
   "source": [
    "s = scrapelib.Scraper(requests_per_minute=1) #１分間に何回リクエストを投げるか\n",
    "t=s.get('http://wear.jp/erierieri/'+str(number)+'/')"
   ]
  },
  {
   "cell_type": "code",
   "execution_count": 3,
   "metadata": {
    "collapsed": false,
    "scrolled": true
   },
   "outputs": [
    {
     "name": "stdout",
     "output_type": "stream",
     "text": [
      "9952652\n",
      "9952653\n",
      "9952656\n",
      "9952658\n",
      "9952660\n",
      "9952661\n",
      "9952662\n",
      "9952663\n",
      "9952664\n",
      "9952665\n",
      "9952666\n",
      "9952667\n",
      "9952668\n",
      "9952669\n",
      "9952670\n",
      "9952672\n",
      "9952673\n",
      "9952674\n",
      "9952675\n",
      "9952677\n",
      "9952678\n",
      "9952680\n",
      "9952681\n",
      "9952683\n",
      "9952684\n",
      "9952685\n",
      "9952687\n",
      "9952689\n",
      "9952690\n",
      "9952694\n",
      "9952695\n",
      "9952696\n",
      "9952697\n",
      "9952700\n",
      "9952701\n",
      "9952702\n",
      "9952703\n",
      "9952704\n",
      "9952706\n",
      "9952707\n",
      "9952709\n",
      "9952711\n",
      "9952712\n",
      "9952713\n",
      "9952714\n",
      "9952715\n",
      "9952716\n",
      "9952717\n",
      "9952718\n",
      "9952719\n",
      "9952720\n",
      "9952721\n",
      "9952722\n",
      "9952723\n",
      "end\n"
     ]
    }
   ],
   "source": [
    "#共起性を考えるならMenとWomenを分けた方が良い？\n",
    "#スパースになりすぎる？\n",
    "with open('fashion.csv', 'wt',encoding='utf8') as fw: #shift_jisだと絵文字が読めない\n",
    "\n",
    "    writer = csv.writer(fw, lineterminator='\\n')\n",
    "    \n",
    "    s = scrapelib.Scraper(requests_per_minute=0) #１分間に何回リクエストを投げるか\n",
    "\n",
    "    for number in range(9952652,9952952):#コーディネートの指定\n",
    "        t=s.get('http://wear.jp/erierieri/'+str(number)+'/')\n",
    "        soup=BeautifulSoup(t.text,\"lxml\")\n",
    "    \n",
    "        item=soup.find(id=\"item\")\n",
    "        if(item==None): #Not Foundの判定も兼ねる\n",
    "            continue\n",
    "    \n",
    "        print(number) #エラーが出たページ　を検索するため\n",
    "        \n",
    "        \n",
    "        title =soup.title.string\n",
    "        #print(title)\n",
    "        #if title=='Not Found': #Not Found使わなくても, item==Noneの時を除外すれば良さそう\n",
    "            #continue\n",
    "            \n",
    "        for a in soup.select('.model_info > a'):\n",
    "            attributes = [x.strip() for x in a.text.split('/')]\n",
    "        \n",
    "        #print(attributes)\n",
    "        \n",
    "        brand_ = []\n",
    "        category_=[]\n",
    "        price_=[]\n",
    "        \n",
    "        for a in item.select('.brand'):\n",
    "            brand_.append(a.text)\n",
    "        \n",
    "        writer.writerow(brand_)\n",
    "    \n",
    "        for p in item.select('.price'):\n",
    "            price_.append(p.text)\n",
    "        for a in item.select('a'):\n",
    "            if a.get('href', '').startswith('/category/'):\n",
    "                category_.append(a.text)\n",
    "            \n",
    "        #print(brand_)\n",
    "        #print(category_)\n",
    "        #print(price_)\n",
    "    \n",
    "        #print(person)\n",
    "        \n",
    "fw.close()\n",
    "print(\"end\")\n",
    "        #fw.write(\"{0},{1},{2}\\r\\n\".format(brand_,category_,price_))\n",
    "    "
   ]
  },
  {
   "cell_type": "code",
   "execution_count": null,
   "metadata": {
    "collapsed": true
   },
   "outputs": [],
   "source": []
  }
 ],
 "metadata": {
  "kernelspec": {
   "display_name": "py35",
   "language": "python",
   "name": "py35"
  },
  "language_info": {
   "codemirror_mode": {
    "name": "ipython",
    "version": 3
   },
   "file_extension": ".py",
   "mimetype": "text/x-python",
   "name": "python",
   "nbconvert_exporter": "python",
   "pygments_lexer": "ipython3",
   "version": "3.5.3"
  }
 },
 "nbformat": 4,
 "nbformat_minor": 2
}
