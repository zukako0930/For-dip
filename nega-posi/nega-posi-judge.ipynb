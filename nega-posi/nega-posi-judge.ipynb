{
 "cells": [
  {
   "cell_type": "markdown",
   "metadata": {},
   "source": [
    "### 現在(8/21)の目標 : このプログラムの関数化"
   ]
  },
  {
   "cell_type": "code",
   "execution_count": 1,
   "metadata": {
    "collapsed": false
   },
   "outputs": [],
   "source": [
    "#natto-py から MeCabをインポート\n",
    "from natto import MeCab\n",
    "import re\n",
    "nm=MeCab()"
   ]
  },
  {
   "cell_type": "code",
   "execution_count": 2,
   "metadata": {
    "collapsed": true
   },
   "outputs": [],
   "source": [
    "tweet=\"高専楽しすぎワロタｗｗｗｗｗ男女でワイワイ…┏(;^o^)┓あれ…？(;^o^)おんな？！(^o^;≡;^o^)女どこ？！(;^o^)女がいない…≡┏( ^o^)┓女の子どこ！≡┗( ^o^)┛おんな！≡┏( ^o^)┓おんな！≡┗( ^o^)┛じゃあ俺が女の子になるっ！\""
   ]
  },
  {
   "cell_type": "code",
   "execution_count": 4,
   "metadata": {
    "collapsed": false
   },
   "outputs": [
    {
     "name": "stdout",
     "output_type": "stream",
     "text": [
      ">ボーちゃん\n"
     ]
    }
   ],
   "source": [
    "tweet=input('>')"
   ]
  },
  {
   "cell_type": "code",
   "execution_count": 5,
   "metadata": {
    "collapsed": false
   },
   "outputs": [
    {
     "name": "stdout",
     "output_type": "stream",
     "text": [
      "[['ボー\\t名詞', '固有名詞', '人名', '名', '*', '*', 'ボー', 'ボー', 'ボー'], ['ちゃん\\t名詞', '接尾', '人名', '*', '*', '*', 'ちゃん', 'チャン', 'チャン'], ['EOS']]\n"
     ]
    }
   ],
   "source": [
    "# print(nm.parse(text))\n",
    "wakati=nm.parse(tweet).split('\\n')\n",
    "wlist=[]\n",
    "for ws in wakati:\n",
    "    ws=ws.split(',')\n",
    "    wlist.append(ws)\n",
    "print(wlist)"
   ]
  },
  {
   "cell_type": "code",
   "execution_count": 6,
   "metadata": {
    "collapsed": true
   },
   "outputs": [],
   "source": [
    "#########前処理マン#######\n",
    "for w in wlist:\n",
    "    if '名詞' in w[0]:\n",
    "        w[0]='名詞'\n",
    "    elif '形容詞' in w[0]:\n",
    "        w[0]='形容詞'\n",
    "    elif '副詞' in w[0]:\n",
    "        w[0]='副詞'\n",
    "    elif '動詞' in w[0]:\n",
    "        w[0]='動詞'\n",
    "    else:\n",
    "        w[0]=w[0]\n",
    "del wlist[len(wlist)-1]\n",
    "########################"
   ]
  },
  {
   "cell_type": "code",
   "execution_count": 7,
   "metadata": {
    "collapsed": false
   },
   "outputs": [
    {
     "name": "stdout",
     "output_type": "stream",
     "text": [
      "[['名詞', '固有名詞', '人名', '名', '*', '*', 'ボー', 'ボー', 'ボー'], ['名詞', '接尾', '人名', '*', '*', '*', 'ちゃん', 'チャン', 'チャン']]\n"
     ]
    }
   ],
   "source": [
    "print(wlist)"
   ]
  },
  {
   "cell_type": "code",
   "execution_count": 23,
   "metadata": {
    "collapsed": true
   },
   "outputs": [],
   "source": [
    "text = \"アルバイト・パート本社は明治４２年創業、大阪中央郵便局内に職員食堂として開業。以後順調に業績を延ばし、全国２０ケ所に営業所を開設している。\""
   ]
  },
  {
   "cell_type": "code",
   "execution_count": 24,
   "metadata": {
    "collapsed": false
   },
   "outputs": [],
   "source": [
    "tweet = \"アルバイト・パート本社は明治４２年創業、大阪中央郵便局内に職員食堂として開業。以後順調に業績を延ばし、全国２０ケ所に営業所を開設している。\""
   ]
  },
  {
   "cell_type": "code",
   "execution_count": 25,
   "metadata": {
    "collapsed": true
   },
   "outputs": [],
   "source": [
    "tweet=\"部屋が汚いんじゃない・・・逆に考えるんだ。世界が美しすぎるんだと・・・\""
   ]
  },
  {
   "cell_type": "code",
   "execution_count": 26,
   "metadata": {
    "collapsed": false
   },
   "outputs": [],
   "source": [
    "# word_list=[]\n",
    "# #MeCabNodeに分解\n",
    "# #MeCabNodeはくだけた文章には使えないっぽい⇨普通にnm.parseでやった方がよさそう\n",
    "# with MeCab('-F%m,%f[0],%h,%f[8]') as nm:\n",
    "#     for n in nm.parse(tweet, as_nodes=True):\n",
    "#         #print(n.feature)\n",
    "#         txt=str(n.feature)\n",
    "#         word_info=txt.split(',')\n",
    "#         word_list.append(word_info)\n",
    "# del(word_list[len(word_list)-1])\n",
    "# print(word_list)"
   ]
  },
  {
   "cell_type": "code",
   "execution_count": 9,
   "metadata": {
    "collapsed": false
   },
   "outputs": [
    {
     "name": "stdout",
     "output_type": "stream",
     "text": [
      "['ボー', 'ちゃん']\n"
     ]
    }
   ],
   "source": [
    "########以下の品詞のみ抜き出す#########\n",
    "judge_list=[]\n",
    "for word in wlist:\n",
    "    if(word[6] != '*'):\n",
    "        if ((word[0] == \"名詞\" ) or (word[0] == \"形容詞\") or (word[0] == \"動詞\") or (word[0] == \"副詞\")) :\n",
    "             judge_list.append(word[6])\n",
    "print(judge_list)\n",
    "#################################"
   ]
  },
  {
   "cell_type": "code",
   "execution_count": 10,
   "metadata": {
    "collapsed": false
   },
   "outputs": [
    {
     "data": {
      "text/plain": [
       "['優れる,すぐれる,動詞,1',\n",
       " '良い,よい,形容詞,0.999995',\n",
       " '喜ぶ,よろこぶ,動詞,0.999979',\n",
       " '褒める,ほめる,動詞,0.999979',\n",
       " 'めでたい,めでたい,形容詞,0.999645']"
      ]
     },
     "execution_count": 10,
     "metadata": {},
     "output_type": "execute_result"
    }
   ],
   "source": [
    "############辞書の読み込み#############\n",
    "f = open('pn_ja.txt')\n",
    "data1 = f.read()  # ファイル終端まで全て読んだデータを返す\n",
    "data1=data1.replace(':',',')\n",
    "f.close()\n",
    "lines=data1.split('\\n')\n",
    "#平仮名も残しておいた方がいい．必ずしも感じとは限らない\n",
    "lines[0:5]\n",
    "###################################"
   ]
  },
  {
   "cell_type": "code",
   "execution_count": 11,
   "metadata": {
    "collapsed": false
   },
   "outputs": [
    {
     "data": {
      "text/plain": [
       "[['功績', 'こうせき', '名詞', '0.999104'],\n",
       " ['賞', 'しょう', '名詞', '0.998943'],\n",
       " ['嬉しい', 'うれしい', '形容詞', '0.998871'],\n",
       " ['喜び', 'よろこび', '名詞', '0.998861'],\n",
       " ['才知', 'さいち', '名詞', '0.998771'],\n",
       " ['徳', 'とく', '名詞', '0.998745'],\n",
       " ['才能', 'さいのう', '名詞', '0.998699'],\n",
       " ['素晴らしい', 'すばらしい', '形容詞', '0.998617'],\n",
       " ['芳しい', 'かんばしい', '形容詞', '0.998578'],\n",
       " ['称える', 'たたえる', '動詞', '0.998576']]"
      ]
     },
     "execution_count": 11,
     "metadata": {},
     "output_type": "execute_result"
    }
   ],
   "source": [
    "##########点数辞書#############\n",
    "word_to_score=[]\n",
    "for line in lines:\n",
    "    word=line.split(',')\n",
    "    word_to_score.append(word)    \n",
    "del word_to_score[55125]\n",
    "\n",
    "word_to_score[10:20]\n",
    "#############################"
   ]
  },
  {
   "cell_type": "code",
   "execution_count": 12,
   "metadata": {
    "collapsed": false
   },
   "outputs": [],
   "source": [
    "########要素がしっかりあるか確認#####\n",
    "for w_s in word_to_score:\n",
    "    if(len(w_s)!=4):\n",
    "        print(len(w_s))\n",
    "        print(word_to_score.index(w_s))\n",
    "##############################"
   ]
  },
  {
   "cell_type": "code",
   "execution_count": 14,
   "metadata": {
    "collapsed": false
   },
   "outputs": [
    {
     "name": "stdout",
     "output_type": "stream",
     "text": [
      "ボー\n",
      "ちゃん\n",
      "単語:-0.453039,合計:-0.453039\n",
      "-0.453039\n"
     ]
    }
   ],
   "source": [
    "############点数計算############\n",
    "score=0\n",
    "wordcount=0\n",
    "#setにして単語検索でもいける\n",
    "for word in judge_list:\n",
    "    print(word)\n",
    "    for w_s in word_to_score:\n",
    "        if w_s[0]==word or w_s[1]==word :\n",
    "            score+=float(w_s[3])\n",
    "            print('単語:'+w_s[3]+',合計:'+str(score))\n",
    "            wordcount+=1\n",
    "            break\n",
    "print(score/wordcount)\n",
    "###############################"
   ]
  },
  {
   "cell_type": "code",
   "execution_count": null,
   "metadata": {
    "collapsed": true
   },
   "outputs": [],
   "source": []
  }
 ],
 "metadata": {
  "kernelspec": {
   "display_name": "py35",
   "language": "python",
   "name": "py35"
  },
  "language_info": {
   "codemirror_mode": {
    "name": "ipython",
    "version": 3
   },
   "file_extension": ".py",
   "mimetype": "text/x-python",
   "name": "python",
   "nbconvert_exporter": "python",
   "pygments_lexer": "ipython3",
   "version": "3.5.3"
  }
 },
 "nbformat": 4,
 "nbformat_minor": 2
}
