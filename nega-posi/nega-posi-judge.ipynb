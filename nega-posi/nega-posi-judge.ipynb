{
 "cells": [
  {
   "cell_type": "markdown",
   "metadata": {},
   "source": [
    "### 現在(8/21)の目標 : このプログラムの関数化"
   ]
  },
  {
   "cell_type": "code",
   "execution_count": 1,
   "metadata": {
    "collapsed": false
   },
   "outputs": [
    {
     "name": "stderr",
     "output_type": "stream",
     "text": [
      "[Errno 2] No such file or directory: 'mecab-config'\n",
      "\n",
      "<class 'FileNotFoundError'>\n",
      "\n",
      "Could not initialize MeCab: libmecab.dylib could not be found, please use MECAB_PATH\n"
     ]
    },
    {
     "ename": "MeCabError",
     "evalue": "libmecab.dylib could not be found, please use MECAB_PATH",
     "output_type": "error",
     "traceback": [
      "\u001b[0;31m---------------------------------------------------------------------------\u001b[0m",
      "\u001b[0;31mFileNotFoundError\u001b[0m                         Traceback (most recent call last)",
      "\u001b[0;32m/Users/Koki/.pyenv/versions/anaconda3-4.3.1/envs/py35/lib/python3.5/site-packages/natto/environment.py\u001b[0m in \u001b[0;36m__get_libpath\u001b[0;34m(self)\u001b[0m\n\u001b[1;32m    143\u001b[0m                     \u001b[0mcmd\u001b[0m \u001b[0;34m=\u001b[0m \u001b[0;34m[\u001b[0m\u001b[0;34m'mecab-config'\u001b[0m\u001b[0;34m,\u001b[0m \u001b[0;34m'--libs-only-L'\u001b[0m\u001b[0;34m]\u001b[0m\u001b[0;34m\u001b[0m\u001b[0m\n\u001b[0;32m--> 144\u001b[0;31m                     \u001b[0mres\u001b[0m \u001b[0;34m=\u001b[0m \u001b[0mPopen\u001b[0m\u001b[0;34m(\u001b[0m\u001b[0mcmd\u001b[0m\u001b[0;34m,\u001b[0m \u001b[0mstdout\u001b[0m\u001b[0;34m=\u001b[0m\u001b[0mPIPE\u001b[0m\u001b[0;34m)\u001b[0m\u001b[0;34m.\u001b[0m\u001b[0mcommunicate\u001b[0m\u001b[0;34m(\u001b[0m\u001b[0;34m)\u001b[0m\u001b[0;34m\u001b[0m\u001b[0m\n\u001b[0m\u001b[1;32m    145\u001b[0m                     \u001b[0mlines\u001b[0m \u001b[0;34m=\u001b[0m \u001b[0mres\u001b[0m\u001b[0;34m[\u001b[0m\u001b[0;36m0\u001b[0m\u001b[0;34m]\u001b[0m\u001b[0;34m.\u001b[0m\u001b[0mdecode\u001b[0m\u001b[0;34m(\u001b[0m\u001b[0;34m)\u001b[0m\u001b[0;34m\u001b[0m\u001b[0m\n",
      "\u001b[0;32m/Users/Koki/.pyenv/versions/anaconda3-4.3.1/envs/py35/lib/python3.5/subprocess.py\u001b[0m in \u001b[0;36m__init__\u001b[0;34m(self, args, bufsize, executable, stdin, stdout, stderr, preexec_fn, close_fds, shell, cwd, env, universal_newlines, startupinfo, creationflags, restore_signals, start_new_session, pass_fds)\u001b[0m\n\u001b[1;32m    675\u001b[0m                                 \u001b[0merrread\u001b[0m\u001b[0;34m,\u001b[0m \u001b[0merrwrite\u001b[0m\u001b[0;34m,\u001b[0m\u001b[0;34m\u001b[0m\u001b[0m\n\u001b[0;32m--> 676\u001b[0;31m                                 restore_signals, start_new_session)\n\u001b[0m\u001b[1;32m    677\u001b[0m         \u001b[0;32mexcept\u001b[0m\u001b[0;34m:\u001b[0m\u001b[0;34m\u001b[0m\u001b[0m\n",
      "\u001b[0;32m/Users/Koki/.pyenv/versions/anaconda3-4.3.1/envs/py35/lib/python3.5/subprocess.py\u001b[0m in \u001b[0;36m_execute_child\u001b[0;34m(self, args, executable, preexec_fn, close_fds, pass_fds, cwd, env, startupinfo, creationflags, shell, p2cread, p2cwrite, c2pread, c2pwrite, errread, errwrite, restore_signals, start_new_session)\u001b[0m\n\u001b[1;32m   1281\u001b[0m                                 \u001b[0merr_msg\u001b[0m \u001b[0;34m+=\u001b[0m \u001b[0;34m': '\u001b[0m \u001b[0;34m+\u001b[0m \u001b[0mrepr\u001b[0m\u001b[0;34m(\u001b[0m\u001b[0morig_executable\u001b[0m\u001b[0;34m)\u001b[0m\u001b[0;34m\u001b[0m\u001b[0m\n\u001b[0;32m-> 1282\u001b[0;31m                     \u001b[0;32mraise\u001b[0m \u001b[0mchild_exception_type\u001b[0m\u001b[0;34m(\u001b[0m\u001b[0merrno_num\u001b[0m\u001b[0;34m,\u001b[0m \u001b[0merr_msg\u001b[0m\u001b[0;34m)\u001b[0m\u001b[0;34m\u001b[0m\u001b[0m\n\u001b[0m\u001b[1;32m   1283\u001b[0m                 \u001b[0;32mraise\u001b[0m \u001b[0mchild_exception_type\u001b[0m\u001b[0;34m(\u001b[0m\u001b[0merr_msg\u001b[0m\u001b[0;34m)\u001b[0m\u001b[0;34m\u001b[0m\u001b[0m\n",
      "\u001b[0;31mFileNotFoundError\u001b[0m: [Errno 2] No such file or directory: 'mecab-config'",
      "\nDuring handling of the above exception, another exception occurred:\n",
      "\u001b[0;31mOSError\u001b[0m                                   Traceback (most recent call last)",
      "\u001b[0;32m/Users/Koki/.pyenv/versions/anaconda3-4.3.1/envs/py35/lib/python3.5/site-packages/natto/mecab.py\u001b[0m in \u001b[0;36m__init__\u001b[0;34m(self, options, **kwargs)\u001b[0m\n\u001b[1;32m    143\u001b[0m         \u001b[0;32mtry\u001b[0m\u001b[0;34m:\u001b[0m\u001b[0;34m\u001b[0m\u001b[0m\n\u001b[0;32m--> 144\u001b[0;31m             \u001b[0menv\u001b[0m \u001b[0;34m=\u001b[0m \u001b[0mMeCabEnv\u001b[0m\u001b[0;34m(\u001b[0m\u001b[0;34m**\u001b[0m\u001b[0mkwargs\u001b[0m\u001b[0;34m)\u001b[0m\u001b[0;34m\u001b[0m\u001b[0m\n\u001b[0m\u001b[1;32m    145\u001b[0m             \u001b[0mself\u001b[0m\u001b[0;34m.\u001b[0m\u001b[0m__ffi\u001b[0m \u001b[0;34m=\u001b[0m \u001b[0m_ffi_libmecab\u001b[0m\u001b[0;34m(\u001b[0m\u001b[0;34m)\u001b[0m\u001b[0;34m\u001b[0m\u001b[0m\n",
      "\u001b[0;32m/Users/Koki/.pyenv/versions/anaconda3-4.3.1/envs/py35/lib/python3.5/site-packages/natto/environment.py\u001b[0m in \u001b[0;36m__init__\u001b[0;34m(self, **kwargs)\u001b[0m\n\u001b[1;32m     52\u001b[0m         \u001b[0mself\u001b[0m\u001b[0;34m.\u001b[0m\u001b[0mcharset\u001b[0m \u001b[0;34m=\u001b[0m \u001b[0mself\u001b[0m\u001b[0;34m.\u001b[0m\u001b[0m__get_charset\u001b[0m\u001b[0;34m(\u001b[0m\u001b[0;34m)\u001b[0m\u001b[0;34m\u001b[0m\u001b[0m\n\u001b[0;32m---> 53\u001b[0;31m         \u001b[0mself\u001b[0m\u001b[0;34m.\u001b[0m\u001b[0mlibpath\u001b[0m \u001b[0;34m=\u001b[0m \u001b[0mself\u001b[0m\u001b[0;34m.\u001b[0m\u001b[0m__get_libpath\u001b[0m\u001b[0;34m(\u001b[0m\u001b[0;34m)\u001b[0m\u001b[0;34m\u001b[0m\u001b[0m\n\u001b[0m\u001b[1;32m     54\u001b[0m \u001b[0;34m\u001b[0m\u001b[0m\n",
      "\u001b[0;32m/Users/Koki/.pyenv/versions/anaconda3-4.3.1/envs/py35/lib/python3.5/site-packages/natto/environment.py\u001b[0m in \u001b[0;36m__get_libpath\u001b[0;34m(self)\u001b[0m\n\u001b[1;32m    154\u001b[0m                     \u001b[0mlogger\u001b[0m\u001b[0;34m.\u001b[0m\u001b[0merror\u001b[0m\u001b[0;34m(\u001b[0m\u001b[0;34m'{}\\n'\u001b[0m\u001b[0;34m.\u001b[0m\u001b[0mformat\u001b[0m\u001b[0;34m(\u001b[0m\u001b[0msys\u001b[0m\u001b[0;34m.\u001b[0m\u001b[0mexc_info\u001b[0m\u001b[0;34m(\u001b[0m\u001b[0;34m)\u001b[0m\u001b[0;34m[\u001b[0m\u001b[0;36m0\u001b[0m\u001b[0;34m]\u001b[0m\u001b[0;34m)\u001b[0m\u001b[0;34m)\u001b[0m\u001b[0;34m\u001b[0m\u001b[0m\n\u001b[0;32m--> 155\u001b[0;31m                     \u001b[0;32mraise\u001b[0m \u001b[0mEnvironmentError\u001b[0m\u001b[0;34m(\u001b[0m\u001b[0mself\u001b[0m\u001b[0;34m.\u001b[0m\u001b[0m_ERROR_NOLIB\u001b[0m\u001b[0;34m.\u001b[0m\u001b[0mformat\u001b[0m\u001b[0;34m(\u001b[0m\u001b[0mlib\u001b[0m\u001b[0;34m)\u001b[0m\u001b[0;34m)\u001b[0m\u001b[0;34m\u001b[0m\u001b[0m\n\u001b[0m\u001b[1;32m    156\u001b[0m \u001b[0;34m\u001b[0m\u001b[0m\n",
      "\u001b[0;31mOSError\u001b[0m: libmecab.dylib could not be found, please use MECAB_PATH",
      "\nDuring handling of the above exception, another exception occurred:\n",
      "\u001b[0;31mMeCabError\u001b[0m                                Traceback (most recent call last)",
      "\u001b[0;32m<ipython-input-1-a3aa13230428>\u001b[0m in \u001b[0;36m<module>\u001b[0;34m()\u001b[0m\n\u001b[1;32m      2\u001b[0m \u001b[0;32mfrom\u001b[0m \u001b[0mnatto\u001b[0m \u001b[0;32mimport\u001b[0m \u001b[0mMeCab\u001b[0m\u001b[0;34m\u001b[0m\u001b[0m\n\u001b[1;32m      3\u001b[0m \u001b[0;32mimport\u001b[0m \u001b[0mre\u001b[0m\u001b[0;34m\u001b[0m\u001b[0m\n\u001b[0;32m----> 4\u001b[0;31m \u001b[0mnm\u001b[0m\u001b[0;34m=\u001b[0m\u001b[0mMeCab\u001b[0m\u001b[0;34m(\u001b[0m\u001b[0;34m)\u001b[0m\u001b[0;34m\u001b[0m\u001b[0m\n\u001b[0m",
      "\u001b[0;32m/Users/Koki/.pyenv/versions/anaconda3-4.3.1/envs/py35/lib/python3.5/site-packages/natto/mecab.py\u001b[0m in \u001b[0;36m__init__\u001b[0;34m(self, options, **kwargs)\u001b[0m\n\u001b[1;32m    217\u001b[0m         \u001b[0;32mexcept\u001b[0m \u001b[0mEnvironmentError\u001b[0m \u001b[0;32mas\u001b[0m \u001b[0merr\u001b[0m\u001b[0;34m:\u001b[0m\u001b[0;34m\u001b[0m\u001b[0m\n\u001b[1;32m    218\u001b[0m             \u001b[0mlogger\u001b[0m\u001b[0;34m.\u001b[0m\u001b[0merror\u001b[0m\u001b[0;34m(\u001b[0m\u001b[0mself\u001b[0m\u001b[0;34m.\u001b[0m\u001b[0m_ERROR_INIT\u001b[0m\u001b[0;34m.\u001b[0m\u001b[0mformat\u001b[0m\u001b[0;34m(\u001b[0m\u001b[0mstr\u001b[0m\u001b[0;34m(\u001b[0m\u001b[0merr\u001b[0m\u001b[0;34m)\u001b[0m\u001b[0;34m)\u001b[0m\u001b[0;34m)\u001b[0m\u001b[0;34m\u001b[0m\u001b[0m\n\u001b[0;32m--> 219\u001b[0;31m             \u001b[0;32mraise\u001b[0m \u001b[0mMeCabError\u001b[0m\u001b[0;34m(\u001b[0m\u001b[0merr\u001b[0m\u001b[0;34m)\u001b[0m\u001b[0;34m\u001b[0m\u001b[0m\n\u001b[0m\u001b[1;32m    220\u001b[0m         \u001b[0;32mexcept\u001b[0m \u001b[0mValueError\u001b[0m \u001b[0;32mas\u001b[0m \u001b[0mverr\u001b[0m\u001b[0;34m:\u001b[0m\u001b[0;34m\u001b[0m\u001b[0m\n\u001b[1;32m    221\u001b[0m             \u001b[0mlogger\u001b[0m\u001b[0;34m.\u001b[0m\u001b[0merror\u001b[0m\u001b[0;34m(\u001b[0m\u001b[0mself\u001b[0m\u001b[0;34m.\u001b[0m\u001b[0m_ERROR_INIT\u001b[0m\u001b[0;34m.\u001b[0m\u001b[0mformat\u001b[0m\u001b[0;34m(\u001b[0m\u001b[0mstr\u001b[0m\u001b[0;34m(\u001b[0m\u001b[0mverr\u001b[0m\u001b[0;34m)\u001b[0m\u001b[0;34m)\u001b[0m\u001b[0;34m)\u001b[0m\u001b[0;34m\u001b[0m\u001b[0m\n",
      "\u001b[0;31mMeCabError\u001b[0m: libmecab.dylib could not be found, please use MECAB_PATH"
     ]
    }
   ],
   "source": [
    "#natto-py から MeCabをインポート\n",
    "from natto import MeCab\n",
    "import re\n",
    "nm=MeCab()"
   ]
  },
  {
   "cell_type": "code",
   "execution_count": 2,
   "metadata": {
    "collapsed": true
   },
   "outputs": [],
   "source": [
    "tweet=\"高専楽しすぎワロタｗｗｗｗｗ男女でワイワイ…┏(;^o^)┓あれ…？(;^o^)おんな？！(^o^;≡;^o^)女どこ？！(;^o^)女がいない…≡┏( ^o^)┓女の子どこ！≡┗( ^o^)┛おんな！≡┏( ^o^)┓おんな！≡┗( ^o^)┛じゃあ俺が女の子になるっ！\""
   ]
  },
  {
   "cell_type": "code",
   "execution_count": 4,
   "metadata": {
    "collapsed": false
   },
   "outputs": [
    {
     "name": "stdout",
     "output_type": "stream",
     "text": [
      ">ボーちゃん\n"
     ]
    }
   ],
   "source": [
    "tweet=input('>')"
   ]
  },
  {
   "cell_type": "code",
   "execution_count": 5,
   "metadata": {
    "collapsed": false
   },
   "outputs": [
    {
     "name": "stdout",
     "output_type": "stream",
     "text": [
      "[['ボー\\t名詞', '固有名詞', '人名', '名', '*', '*', 'ボー', 'ボー', 'ボー'], ['ちゃん\\t名詞', '接尾', '人名', '*', '*', '*', 'ちゃん', 'チャン', 'チャン'], ['EOS']]\n"
     ]
    }
   ],
   "source": [
    "# print(nm.parse(text))\n",
    "wakati=nm.parse(tweet).split('\\n')\n",
    "wlist=[]\n",
    "for ws in wakati:\n",
    "    ws=ws.split(',')\n",
    "    wlist.append(ws)\n",
    "print(wlist)"
   ]
  },
  {
   "cell_type": "code",
   "execution_count": 6,
   "metadata": {
    "collapsed": true
   },
   "outputs": [],
   "source": [
    "#########前処理マン#######\n",
    "for w in wlist:\n",
    "    if '名詞' in w[0]:\n",
    "        w[0]='名詞'\n",
    "    elif '形容詞' in w[0]:\n",
    "        w[0]='形容詞'\n",
    "    elif '副詞' in w[0]:\n",
    "        w[0]='副詞'\n",
    "    elif '動詞' in w[0]:\n",
    "        w[0]='動詞'\n",
    "    else:\n",
    "        w[0]=w[0]\n",
    "del wlist[len(wlist)-1]\n",
    "########################"
   ]
  },
  {
   "cell_type": "code",
   "execution_count": 7,
   "metadata": {
    "collapsed": false
   },
   "outputs": [
    {
     "name": "stdout",
     "output_type": "stream",
     "text": [
      "[['名詞', '固有名詞', '人名', '名', '*', '*', 'ボー', 'ボー', 'ボー'], ['名詞', '接尾', '人名', '*', '*', '*', 'ちゃん', 'チャン', 'チャン']]\n"
     ]
    }
   ],
   "source": [
    "print(wlist)"
   ]
  },
  {
   "cell_type": "code",
   "execution_count": 23,
   "metadata": {
    "collapsed": true
   },
   "outputs": [],
   "source": [
    "text = \"アルバイト・パート本社は明治４２年創業、大阪中央郵便局内に職員食堂として開業。以後順調に業績を延ばし、全国２０ケ所に営業所を開設している。\""
   ]
  },
  {
   "cell_type": "code",
   "execution_count": 24,
   "metadata": {
    "collapsed": false
   },
   "outputs": [],
   "source": [
    "tweet = \"アルバイト・パート本社は明治４２年創業、大阪中央郵便局内に職員食堂として開業。以後順調に業績を延ばし、全国２０ケ所に営業所を開設している。\""
   ]
  },
  {
   "cell_type": "code",
   "execution_count": 25,
   "metadata": {
    "collapsed": true
   },
   "outputs": [],
   "source": [
    "tweet=\"部屋が汚いんじゃない・・・逆に考えるんだ。世界が美しすぎるんだと・・・\""
   ]
  },
  {
   "cell_type": "code",
   "execution_count": 26,
   "metadata": {
    "collapsed": false
   },
   "outputs": [],
   "source": [
    "# word_list=[]\n",
    "# #MeCabNodeに分解\n",
    "# #MeCabNodeはくだけた文章には使えないっぽい⇨普通にnm.parseでやった方がよさそう\n",
    "# with MeCab('-F%m,%f[0],%h,%f[8]') as nm:\n",
    "#     for n in nm.parse(tweet, as_nodes=True):\n",
    "#         #print(n.feature)\n",
    "#         txt=str(n.feature)\n",
    "#         word_info=txt.split(',')\n",
    "#         word_list.append(word_info)\n",
    "# del(word_list[len(word_list)-1])\n",
    "# print(word_list)"
   ]
  },
  {
   "cell_type": "code",
   "execution_count": 9,
   "metadata": {
    "collapsed": false
   },
   "outputs": [
    {
     "name": "stdout",
     "output_type": "stream",
     "text": [
      "['ボー', 'ちゃん']\n"
     ]
    }
   ],
   "source": [
    "########以下の品詞のみ抜き出す#########\n",
    "judge_list=[]\n",
    "for word in wlist:\n",
    "    if(word[6] != '*'):\n",
    "        if ((word[0] == \"名詞\" ) or (word[0] == \"形容詞\") or (word[0] == \"動詞\") or (word[0] == \"副詞\")) :\n",
    "             judge_list.append(word[6])\n",
    "print(judge_list)\n",
    "#################################"
   ]
  },
  {
   "cell_type": "code",
   "execution_count": 10,
   "metadata": {
    "collapsed": false
   },
   "outputs": [
    {
     "data": {
      "text/plain": [
       "['優れる,すぐれる,動詞,1',\n",
       " '良い,よい,形容詞,0.999995',\n",
       " '喜ぶ,よろこぶ,動詞,0.999979',\n",
       " '褒める,ほめる,動詞,0.999979',\n",
       " 'めでたい,めでたい,形容詞,0.999645']"
      ]
     },
     "execution_count": 10,
     "metadata": {},
     "output_type": "execute_result"
    }
   ],
   "source": [
    "############辞書の読み込み#############\n",
    "f = open('pn_ja.txt')\n",
    "data1 = f.read()  # ファイル終端まで全て読んだデータを返す\n",
    "data1=data1.replace(':',',')\n",
    "f.close()\n",
    "lines=data1.split('\\n')\n",
    "#平仮名も残しておいた方がいい．必ずしも感じとは限らない\n",
    "lines[0:5]\n",
    "###################################"
   ]
  },
  {
   "cell_type": "code",
   "execution_count": 11,
   "metadata": {
    "collapsed": false
   },
   "outputs": [
    {
     "data": {
      "text/plain": [
       "[['功績', 'こうせき', '名詞', '0.999104'],\n",
       " ['賞', 'しょう', '名詞', '0.998943'],\n",
       " ['嬉しい', 'うれしい', '形容詞', '0.998871'],\n",
       " ['喜び', 'よろこび', '名詞', '0.998861'],\n",
       " ['才知', 'さいち', '名詞', '0.998771'],\n",
       " ['徳', 'とく', '名詞', '0.998745'],\n",
       " ['才能', 'さいのう', '名詞', '0.998699'],\n",
       " ['素晴らしい', 'すばらしい', '形容詞', '0.998617'],\n",
       " ['芳しい', 'かんばしい', '形容詞', '0.998578'],\n",
       " ['称える', 'たたえる', '動詞', '0.998576']]"
      ]
     },
     "execution_count": 11,
     "metadata": {},
     "output_type": "execute_result"
    }
   ],
   "source": [
    "##########点数辞書#############\n",
    "word_to_score=[]\n",
    "for line in lines:\n",
    "    word=line.split(',')\n",
    "    word_to_score.append(word)    \n",
    "del word_to_score[55125]\n",
    "\n",
    "word_to_score[10:20]\n",
    "#############################"
   ]
  },
  {
   "cell_type": "code",
   "execution_count": 12,
   "metadata": {
    "collapsed": false
   },
   "outputs": [],
   "source": [
    "########要素がしっかりあるか確認#####\n",
    "for w_s in word_to_score:\n",
    "    if(len(w_s)!=4):\n",
    "        print(len(w_s))\n",
    "        print(word_to_score.index(w_s))\n",
    "##############################"
   ]
  },
  {
   "cell_type": "code",
   "execution_count": 14,
   "metadata": {
    "collapsed": false
   },
   "outputs": [
    {
     "name": "stdout",
     "output_type": "stream",
     "text": [
      "ボー\n",
      "ちゃん\n",
      "単語:-0.453039,合計:-0.453039\n",
      "-0.453039\n"
     ]
    }
   ],
   "source": [
    "############点数計算############\n",
    "score=0\n",
    "wordcount=0\n",
    "#setにして単語検索でもいける\n",
    "for word in judge_list:\n",
    "    print(word)\n",
    "    for w_s in word_to_score:\n",
    "        if w_s[0]==word or w_s[1]==word :\n",
    "            score+=float(w_s[3])\n",
    "            print('単語:'+w_s[3]+',合計:'+str(score))\n",
    "            wordcount+=1\n",
    "            break\n",
    "print(score/wordcount)\n",
    "###############################"
   ]
  },
  {
   "cell_type": "code",
   "execution_count": null,
   "metadata": {
    "collapsed": true
   },
   "outputs": [],
   "source": []
  }
 ],
 "metadata": {
  "kernelspec": {
   "display_name": "py35",
   "language": "python",
   "name": "py35"
  },
  "language_info": {
   "codemirror_mode": {
    "name": "ipython",
    "version": 3
   },
   "file_extension": ".py",
   "mimetype": "text/x-python",
   "name": "python",
   "nbconvert_exporter": "python",
   "pygments_lexer": "ipython3",
   "version": "3.5.3"
  }
 },
 "nbformat": 4,
 "nbformat_minor": 2
}
