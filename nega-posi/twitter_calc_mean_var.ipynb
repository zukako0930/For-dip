{
 "cells": [
  {
   "cell_type": "markdown",
   "metadata": {},
   "source": [
    "### 現在の目標：ネガポジのスコアを偏差値として算出する(8/25)"
   ]
  },
  {
   "cell_type": "code",
   "execution_count": 10,
   "metadata": {
    "collapsed": false
   },
   "outputs": [],
   "source": [
    "import nega_posi\n",
    "from natto import MeCab\n",
    "\n",
    "import pandas as pd\n",
    "df=pd.read_csv('user_name.csv',names=['0','1'])\n",
    "scnames=df['1']"
   ]
  },
  {
   "cell_type": "code",
   "execution_count": null,
   "metadata": {
    "collapsed": true
   },
   "outputs": [],
   "source": [
    "from requests_oauthlib import OAuth1Session\n",
    "from collections import defaultdict\n",
    "import json\n",
    "\n",
    "CK = '3rJOl1ODzm9yZy63FACdg'                             # Consumer Key\n",
    "CS = '5jPoQ5kQvMJFDYRNE8bQ4rHuds4xJqhvgNJM4awaE8'         # Consumer Secret\n",
    "AT = '2956677620-D7KuhxlChnM27XgQ9WoFJR4haZuTPgTnBVrKe1K' # Access Token\n",
    "AS = '2qTkh1PC1OIL6rCPyNKUnmHV8Rf70XCODczCTFdp5n1uq'         # Accesss Token Secert"
   ]
  },
  {
   "cell_type": "code",
   "execution_count": 12,
   "metadata": {
    "collapsed": true
   },
   "outputs": [
    {
     "name": "stdout",
     "output_type": "stream",
     "text": [
      "0\n",
      "平均-0.21560800000000002\n",
      "1\n",
      "平均-0.39649\n",
      "2\n",
      "平均-0.49022142857142853\n",
      "3\n",
      "平均-0.485019\n",
      "4\n",
      "5\n",
      "6\n",
      "平均-0.242223\n",
      "7\n",
      "8\n",
      "平均-0.54371\n",
      "9\n",
      "平均-0.49346488888888884\n",
      "10\n",
      "平均-0.227128\n",
      "11\n",
      "平均-0.584833\n",
      "12\n",
      "平均0.4477068\n",
      "13\n",
      "平均-0.35004266666666667\n",
      "14\n",
      "平均-0.5393776111111112\n",
      "15\n",
      "平均-0.44459985714285716\n",
      "16\n",
      "平均0.26606050000000003\n",
      "17\n",
      "平均0.031134333333333337\n",
      "18\n",
      "平均-0.32666900000000004\n",
      "19\n",
      "平均0.2929912\n",
      "20\n",
      "平均-0.631404\n",
      "21\n",
      "22\n",
      "平均-0.3173112857142857\n",
      "23\n",
      "平均0.13154749999999998\n",
      "24\n",
      "平均-0.41637268\n",
      "25\n",
      "平均-0.4629546666666666\n",
      "26\n",
      "平均-0.20328880000000002\n",
      "27\n",
      "平均-0.203523\n",
      "28\n",
      "平均-0.6618386666666667\n",
      "29\n",
      "平均-0.58595575\n",
      "30\n",
      "平均-0.6013523333333334\n",
      "31\n",
      "平均-0.250905\n",
      "32\n",
      "平均-0.19649720000000004\n",
      "33\n",
      "平均-0.3604495125\n",
      "34\n",
      "平均-0.069264\n",
      "35\n",
      "平均-0.402686\n",
      "36\n",
      "平均0.23571050000000002\n",
      "37\n",
      "平均-0.4124838333333333\n",
      "38\n",
      "平均-0.67263\n",
      "39\n",
      "平均0.39461995\n",
      "40\n",
      "平均-0.43135966666666664\n",
      "41\n",
      "平均-0.5322078888888888\n",
      "42\n",
      "平均0.29178980000000004\n",
      "43\n",
      "平均-0.518604\n",
      "44\n",
      "平均-0.18179859999999998\n",
      "45\n",
      "平均-0.36693966666666666\n",
      "46\n",
      "平均0.022749999999999992\n",
      "47\n",
      "平均-0.062490333333333335\n",
      "48\n",
      "平均-0.3200291071428571\n",
      "49\n",
      "平均-0.6038075833333335\n",
      "50\n",
      "平均-0.511560975\n",
      "51\n",
      "平均-0.5003619857142857\n",
      "52\n",
      "平均-0.7304881000000001\n",
      "53\n",
      "平均-0.5193142636363637\n",
      "54\n",
      "平均0.757087\n",
      "55\n",
      "平均0.03837800000000002\n",
      "56\n",
      "平均-0.40194900000000006\n",
      "57\n",
      "平均-0.3337892499999999\n",
      "58\n",
      "平均0.10526650000000004\n",
      "59\n",
      "平均-0.5863553333333333\n",
      "60\n",
      "平均-0.5139210000000001\n",
      "61\n",
      "平均-0.9295\n",
      "62\n",
      "平均0.952709\n",
      "63\n",
      "平均-0.492314\n",
      "64\n",
      "平均-0.073448\n",
      "65\n",
      "平均-0.365478\n",
      "66\n",
      "平均0.60364075\n",
      "67\n",
      "平均0.270933\n",
      "68\n",
      "平均-0.45924366666666666\n",
      "69\n",
      "平均-0.7126756666666667\n",
      "70\n",
      "平均-0.5821636666666667\n",
      "71\n",
      "平均-0.42912275\n",
      "72\n",
      "平均-0.6494476666666666\n",
      "73\n",
      "平均-0.038019000000000004\n",
      "74\n",
      "平均-0.6422620000000001\n",
      "75\n",
      "平均-0.612416\n",
      "76\n",
      "平均0.3183501666666666\n",
      "77\n",
      "平均-0.09567080000000001\n",
      "78\n",
      "平均-0.4425368333333333\n",
      "79\n",
      "平均-0.171773\n",
      "80\n",
      "平均-0.2267245\n",
      "81\n",
      "平均-0.5069332\n",
      "82\n",
      "平均-0.6150105\n",
      "83\n",
      "平均-0.56443975\n",
      "84\n",
      "平均-0.40516929999999995\n",
      "85\n",
      "平均-0.2422065\n",
      "86\n",
      "平均-0.5323378333333333\n",
      "87\n",
      "平均-0.45912625\n",
      "88\n",
      "平均-0.18036725\n",
      "89\n",
      "平均-0.11015033333333335\n",
      "90\n",
      "平均-0.263663\n",
      "91\n",
      "平均-0.41789399999999993\n",
      "92\n",
      "平均-0.40837801999999995\n",
      "93\n",
      "平均-0.005321583333333335\n",
      "94\n",
      "平均-0.2837186363636363\n",
      "95\n",
      "平均0.41818649999999996\n",
      "96\n",
      "平均-0.13547662500000007\n",
      "97\n",
      "平均-0.344464\n",
      "98\n",
      "平均-0.938058\n",
      "99\n",
      "平均-0.18080700000000002\n",
      "全体平均-0.268407357656746\n"
     ]
    }
   ],
   "source": [
    "def calc_score(tweet_list):\n",
    "    score=0\n",
    "    sum_score=0\n",
    "    for idx,tweet in enumerate(tweet_list):\n",
    "        print(idx)\n",
    "        tw1=nega_posi.JudgeClass(tweet)\n",
    "        tw1.make_wlist()\n",
    "        score_dict=tw1.make_dict()\n",
    "        tw1.make_judge_list()\n",
    "        score=tw1.calc_score(score_dict)\n",
    "        sum_score+=score\n",
    "    print(\"全体平均\"+str(sum_score/len(tweet_list)))"
   ]
  },
  {
   "cell_type": "code",
   "execution_count": 2,
   "metadata": {
    "collapsed": false
   },
   "outputs": [],
   "source": [
    "def get_usid(scname):\n",
    "    url = \"https://api.twitter.com/1.1/users/show.json\"\n",
    "    # とくにパラメータは無い\n",
    "    params = { \"screen_name\" : scname}\n",
    "    # OAuth で GET\n",
    "    twitter = OAuth1Session(CK, CS, AT, AS)\n",
    "    req = twitter.get(url, params = params)\n",
    "    n = 0\n",
    "    if req.status_code == 200:\n",
    "        timeline2 = json.loads(req.text)\n",
    "        print(timeline2[\"id\"])\n",
    "        return timeline2[\"id\"]\n",
    "    else:\n",
    "        return 0"
   ]
  },
  {
   "cell_type": "code",
   "execution_count": 3,
   "metadata": {
    "collapsed": true
   },
   "outputs": [],
   "source": [
    "def get_tweet(usid):\n",
    "    tweet_list=[]\n",
    "    # タイムライン取得用のURL\n",
    "    url = \"https://api.twitter.com/1.1/statuses/user_timeline.json?count=100\"\n",
    "    # とくにパラメータは無い\n",
    "    params = { \"user_id\" : usid}\n",
    "    # OAuth で GET\n",
    "    twitter = OAuth1Session(CK, CS, AT, AS)\n",
    "    req = twitter.get(url, params = params)\n",
    "    n = 0\n",
    "    # print(users[\"id_str\"])\n",
    "    if req.status_code == 200:\n",
    "        # レスポンスはJSON形式なので parse する\n",
    "        timeline = json.loads(req.text)\n",
    "        # 各ツイートの本文を表示\n",
    "        for tweet in timeline:\n",
    "            tweet_list.append(tweet[\"text\"])\n",
    "        return tweet_list\n",
    "#         print(tweet_list)        \n",
    "    else:\n",
    "        # エラーの場合\n",
    "        print (\"Error: %d\" % req.status_code)\n",
    "        return 0"
   ]
  },
  {
   "cell_type": "code",
   "execution_count": 4,
   "metadata": {
    "collapsed": true
   },
   "outputs": [],
   "source": [
    "def calc_score(tweet_list):\n",
    "    score=0\n",
    "    sum_score=0\n",
    "    for idx,tweet in enumerate(tweet_list):\n",
    "#         print(idx)\n",
    "        tw1=nega_posi.JudgeClass(tweet)\n",
    "        tw1.make_wlist()\n",
    "        score_dict=tw1.make_dict()\n",
    "        tw1.make_judge_list()\n",
    "        score=tw1.calc_score(score_dict)\n",
    "        sum_score+=score\n",
    "    print(\"全体平均\"+str(sum_score/len(tweet_list)))"
   ]
  },
  {
   "cell_type": "code",
   "execution_count": null,
   "metadata": {
    "collapsed": false,
    "scrolled": false
   },
   "outputs": [
    {
     "name": "stdout",
     "output_type": "stream",
     "text": [
      "798428774568235008\n",
      "全体平均-0.3372017010467585\n",
      "844895580555960320\n",
      "全体平均-0.2864354293642759\n",
      "2483689393\n",
      "全体平均-0.24483904041675664\n",
      "569934760\n",
      "全体平均-0.32392116137778904\n",
      "3123636955\n",
      "全体平均-0.27427179439056937\n",
      "1953966811\n",
      "Error: 401\n",
      "1504922414\n",
      "全体平均-0.3175979877699204\n",
      "748788992703733760\n",
      "全体平均-0.2087113027637881\n",
      "835469054961856514\n",
      "Error: 401\n",
      "762528144674787328\n",
      "全体平均-0.2760635963929145\n",
      "2336291546\n",
      "全体平均-0.32820767305975224\n",
      "Error: 404\n",
      "755232895\n",
      "全体平均-0.29517458884295633\n",
      "1687041560\n",
      "全体平均-0.5467687896270568\n",
      "3248830434\n",
      "全体平均-0.32512860274809813\n",
      "3194278795\n",
      "全体平均-0.2897964882943616\n",
      "479498183\n",
      "Error: 401\n",
      "2780113201\n"
     ]
    }
   ],
   "source": [
    "score_list=[]\n",
    "for scname in scnames:\n",
    "    usid=get_usid(scname)\n",
    "    tweet_list=[]\n",
    "    tweet_list=get_tweet(usid)\n",
    "    if tweet_list != 0:\n",
    "        score_list.append(calc_score(tweet_list))\n",
    "print(end)    "
   ]
  },
  {
   "cell_type": "code",
   "execution_count": 41,
   "metadata": {
    "collapsed": false
   },
   "outputs": [
    {
     "name": "stdout",
     "output_type": "stream",
     "text": [
      "Error: 401\n"
     ]
    },
    {
     "data": {
      "text/plain": [
       "0"
      ]
     },
     "execution_count": 41,
     "metadata": {},
     "output_type": "execute_result"
    }
   ],
   "source": [
    "get_tweet(1953966811)"
   ]
  },
  {
   "cell_type": "code",
   "execution_count": null,
   "metadata": {
    "collapsed": true
   },
   "outputs": [],
   "source": []
  }
 ],
 "metadata": {
  "kernelspec": {
   "display_name": "py35",
   "language": "python",
   "name": "py35"
  },
  "language_info": {
   "codemirror_mode": {
    "name": "ipython",
    "version": 3
   },
   "file_extension": ".py",
   "mimetype": "text/x-python",
   "name": "python",
   "nbconvert_exporter": "python",
   "pygments_lexer": "ipython3",
   "version": "3.5.3"
  }
 },
 "nbformat": 4,
 "nbformat_minor": 2
}
