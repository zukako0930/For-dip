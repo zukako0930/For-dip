{
 "cells": [
  {
   "cell_type": "markdown",
   "metadata": {},
   "source": [
    "## 現在の目標(9/4)\n",
    "### リプはtweetlistから除外する？\n",
    "\n",
    "### ネガティブなtweet上位とポジティブなtweet上位を表示する!!!"
   ]
  },
  {
   "cell_type": "code",
   "execution_count": 59,
   "metadata": {
    "collapsed": true
   },
   "outputs": [],
   "source": [
    "import nega_posi\n",
    "from natto import MeCab\n",
    "\n",
    "from requests_oauthlib import OAuth1Session\n",
    "from collections import defaultdict\n",
    "import json\n",
    "\n",
    "CK = 'your CK'                             # Consumer Key\n",
    "CS = 'your CS'         # Consumer Secret\n",
    "AT = 'your AT' # Access Token\n",
    "AS = 'your AS'         # Accesss Token Secert"
   ]
  },
  {
   "cell_type": "code",
   "execution_count": 2,
   "metadata": {
    "collapsed": true
   },
   "outputs": [],
   "source": [
    "def get_usid(scname):\n",
    "    url = \"https://api.twitter.com/1.1/users/show.json\"\n",
    "    # とくにパラメータは無い\n",
    "    params = { \"screen_name\" : scname}\n",
    "    # OAuth で GET\n",
    "    twitter = OAuth1Session(CK, CS, AT, AS)\n",
    "    req = twitter.get(url, params = params)\n",
    "    n = 0\n",
    "    if req.status_code == 200:\n",
    "        timeline2 = json.loads(req.text)\n",
    "        print(timeline2[\"id\"])\n",
    "        return timeline2[\"id\"]\n",
    "    else:\n",
    "        return 0"
   ]
  },
  {
   "cell_type": "code",
   "execution_count": 50,
   "metadata": {
    "collapsed": true
   },
   "outputs": [],
   "source": [
    "def get_tweet(usid):\n",
    "    tweet_list=[]\n",
    "    # タイムライン取得用のURL\n",
    "    url = \"https://api.twitter.com/1.1/statuses/user_timeline.json?count=300\"\n",
    "    # とくにパラメータは無い\n",
    "    params = { \"user_id\" : usid}\n",
    "    # OAuth で GET\n",
    "    twitter = OAuth1Session(CK, CS, AT, AS)\n",
    "    req = twitter.get(url, params = params)\n",
    "    n = 0\n",
    "    # print(users[\"id_str\"])\n",
    "    if req.status_code == 200:\n",
    "        # レスポンスはJSON形式なので parse する\n",
    "        timeline = json.loads(req.text)\n",
    "        # 各ツイートの本文を表示\n",
    "        print(len(timeline))\n",
    "        for tweet in timeline:\n",
    "            if '@' not in tweet[\"text\"]:\n",
    "                tweet_list.append(tweet[\"text\"])\n",
    "                #print(tweet[\"text\"])\n",
    "            if len(tweet_list)==100:\n",
    "                break\n",
    "        return tweet_list\n",
    "#         print(tweet_list)        \n",
    "    else:\n",
    "        # エラーの場合\n",
    "        print (\"Error: %d\" % req.status_code)\n",
    "        return 0"
   ]
  },
  {
   "cell_type": "code",
   "execution_count": 12,
   "metadata": {
    "collapsed": false
   },
   "outputs": [],
   "source": [
    "def calc_score(tweet_list):\n",
    "    score=0\n",
    "    sum_score=0\n",
    "    sc_list=[]\n",
    "    for idx,tweet in enumerate(tweet_list):\n",
    "#         print(idx)\n",
    "        tw1=nega_posi.JudgeClass(tweet)\n",
    "        tw1.make_wlist()\n",
    "        score_dict=tw1.make_dict()\n",
    "        tw1.make_judge_list()\n",
    "        score=tw1.calc_score(score_dict)\n",
    "        sum_score+=score\n",
    "        sc_list.append(score)\n",
    "    if len(tweet_list) == 0:\n",
    "        return 0\n",
    "    else:\n",
    "        max_idx=search_max_idx(sc_list)\n",
    "        for i,idx in enumerate(max_idx):\n",
    "            print(\"positive \"+str(i+1)+\"位: \"+str(tweet_list[idx]))\n",
    "        min_idx=search_min_idx(sc_list)\n",
    "        for i,idx in enumerate(min_idx):\n",
    "            print(\"negative \"+str(i+1)+\"位: \"+str(tweet_list[idx]))\n",
    "        print(max_idx)\n",
    "        print(min_idx)\n",
    "        print(\"全体平均\"+str(sum_score/len(tweet_list)))        \n",
    "        return sum_score/len(tweet_list)"
   ]
  },
  {
   "cell_type": "code",
   "execution_count": 5,
   "metadata": {
    "collapsed": true
   },
   "outputs": [],
   "source": [
    "import numpy as np\n",
    "def search_max_idx(sc_list):\n",
    "    my_array=np.array(sc_list)\n",
    "    #探す対象リスト:my_arrayはnumpy\n",
    "    #例:上位3件\n",
    "    K = 3\n",
    "    # ソートはされていない上位k件のインデックス\n",
    "    unsorted_max_indices = np.argpartition(-my_array, K)[:K]\n",
    "    # 上位k件の値\n",
    "    y = my_array[unsorted_max_indices]\n",
    "    # 大きい順にソートし、インデックスを取得\n",
    "    max_indices = np.argsort(-y)\n",
    "    # 類似度上位k件のインデックス\n",
    "    max_k_indices = unsorted_max_indices[max_indices]\n",
    "    return max_k_indices"
   ]
  },
  {
   "cell_type": "code",
   "execution_count": 6,
   "metadata": {
    "collapsed": true
   },
   "outputs": [],
   "source": [
    "def search_min_idx(sc_list):\n",
    "    my_array=np.array(sc_list)\n",
    "    my_array=my_array*(-1)\n",
    "    #探す対象リスト:my_arrayはnumpy\n",
    "    #例:上位3件\n",
    "    K = 3\n",
    "    # ソートはされていない上位k件のインデックス\n",
    "    unsorted_max_indices = np.argpartition(-my_array, K)[:K]\n",
    "    # 上位k件の値\n",
    "    y = my_array[unsorted_max_indices]\n",
    "    # 大きい順にソートし、インデックスを取得\n",
    "    max_indices = np.argsort(-y)\n",
    "    # 類似度上位k件のインデックス\n",
    "    max_k_indices = unsorted_max_indices[max_indices]\n",
    "    return max_k_indices"
   ]
  },
  {
   "cell_type": "code",
   "execution_count": 7,
   "metadata": {
    "collapsed": true
   },
   "outputs": [],
   "source": [
    "# def calc_score(tweet_list):\n",
    "#     score=0\n",
    "#     sum_score=0\n",
    "#     max_score=-1\n",
    "#     min_score=1\n",
    "#     for idx,tweet in enumerate(tweet_list):\n",
    "# #         print(idx)\n",
    "#         tw1=nega_posi.JudgeClass(tweet)\n",
    "#         tw1.make_wlist()\n",
    "#         score_dict=tw1.make_dict()\n",
    "#         tw1.make_judge_list()\n",
    "#         score=tw1.calc_score(score_dict)\n",
    "#         if score >max_score:\n",
    "#             max_idx=idx\n",
    "#             max_score=score\n",
    "#         if score < min_score:\n",
    "#             min_idx=idx\n",
    "#             min_score=score\n",
    "#         sum_score+=score\n",
    "#     if len(tweet_list) == 0:\n",
    "#         return 0\n",
    "#     else:\n",
    "#         print(\"全体平均\"+str(sum_score/len(tweet_list)))\n",
    "#         #scorelistから上位のindexを取得\n",
    "#         print(\"positive:\"+ tweet_list[max_idx])\n",
    "#         print(\"negative:\"+tweet_list[min_idx])\n",
    "#         return sum_score/len(tweet_list)\n",
    "# # "
   ]
  },
  {
   "cell_type": "code",
   "execution_count": 8,
   "metadata": {
    "collapsed": false
   },
   "outputs": [],
   "source": [
    "def calc_dev(score,ave,std):\n",
    "    return (50+10*(score-ave)/std)"
   ]
  },
  {
   "cell_type": "code",
   "execution_count": 58,
   "metadata": {
    "collapsed": false,
    "scrolled": true
   },
   "outputs": [
    {
     "ename": "KeyboardInterrupt",
     "evalue": "",
     "output_type": "error",
     "traceback": [
      "\u001b[0;31m---------------------------------------------------------------------------\u001b[0m",
      "\u001b[0;31mKeyboardInterrupt\u001b[0m                         Traceback (most recent call last)",
      "\u001b[0;32m/Users/Koki/.pyenv/versions/anaconda3-4.3.1/envs/py35/lib/python3.5/site-packages/ipykernel/kernelbase.py\u001b[0m in \u001b[0;36m_input_request\u001b[0;34m(self, prompt, ident, parent, password)\u001b[0m\n\u001b[1;32m    729\u001b[0m             \u001b[0;32mtry\u001b[0m\u001b[0;34m:\u001b[0m\u001b[0;34m\u001b[0m\u001b[0m\n\u001b[0;32m--> 730\u001b[0;31m                 \u001b[0mident\u001b[0m\u001b[0;34m,\u001b[0m \u001b[0mreply\u001b[0m \u001b[0;34m=\u001b[0m \u001b[0mself\u001b[0m\u001b[0;34m.\u001b[0m\u001b[0msession\u001b[0m\u001b[0;34m.\u001b[0m\u001b[0mrecv\u001b[0m\u001b[0;34m(\u001b[0m\u001b[0mself\u001b[0m\u001b[0;34m.\u001b[0m\u001b[0mstdin_socket\u001b[0m\u001b[0;34m,\u001b[0m \u001b[0;36m0\u001b[0m\u001b[0;34m)\u001b[0m\u001b[0;34m\u001b[0m\u001b[0m\n\u001b[0m\u001b[1;32m    731\u001b[0m             \u001b[0;32mexcept\u001b[0m \u001b[0mException\u001b[0m\u001b[0;34m:\u001b[0m\u001b[0;34m\u001b[0m\u001b[0m\n",
      "\u001b[0;32m/Users/Koki/.pyenv/versions/anaconda3-4.3.1/envs/py35/lib/python3.5/site-packages/jupyter_client/session.py\u001b[0m in \u001b[0;36mrecv\u001b[0;34m(self, socket, mode, content, copy)\u001b[0m\n\u001b[1;32m    777\u001b[0m         \u001b[0;32mtry\u001b[0m\u001b[0;34m:\u001b[0m\u001b[0;34m\u001b[0m\u001b[0m\n\u001b[0;32m--> 778\u001b[0;31m             \u001b[0mmsg_list\u001b[0m \u001b[0;34m=\u001b[0m \u001b[0msocket\u001b[0m\u001b[0;34m.\u001b[0m\u001b[0mrecv_multipart\u001b[0m\u001b[0;34m(\u001b[0m\u001b[0mmode\u001b[0m\u001b[0;34m,\u001b[0m \u001b[0mcopy\u001b[0m\u001b[0;34m=\u001b[0m\u001b[0mcopy\u001b[0m\u001b[0;34m)\u001b[0m\u001b[0;34m\u001b[0m\u001b[0m\n\u001b[0m\u001b[1;32m    779\u001b[0m         \u001b[0;32mexcept\u001b[0m \u001b[0mzmq\u001b[0m\u001b[0;34m.\u001b[0m\u001b[0mZMQError\u001b[0m \u001b[0;32mas\u001b[0m \u001b[0me\u001b[0m\u001b[0;34m:\u001b[0m\u001b[0;34m\u001b[0m\u001b[0m\n",
      "\u001b[0;32m/Users/Koki/.pyenv/versions/anaconda3-4.3.1/envs/py35/lib/python3.5/site-packages/zmq/sugar/socket.py\u001b[0m in \u001b[0;36mrecv_multipart\u001b[0;34m(self, flags, copy, track)\u001b[0m\n\u001b[1;32m    394\u001b[0m         \"\"\"\n\u001b[0;32m--> 395\u001b[0;31m         \u001b[0mparts\u001b[0m \u001b[0;34m=\u001b[0m \u001b[0;34m[\u001b[0m\u001b[0mself\u001b[0m\u001b[0;34m.\u001b[0m\u001b[0mrecv\u001b[0m\u001b[0;34m(\u001b[0m\u001b[0mflags\u001b[0m\u001b[0;34m,\u001b[0m \u001b[0mcopy\u001b[0m\u001b[0;34m=\u001b[0m\u001b[0mcopy\u001b[0m\u001b[0;34m,\u001b[0m \u001b[0mtrack\u001b[0m\u001b[0;34m=\u001b[0m\u001b[0mtrack\u001b[0m\u001b[0;34m)\u001b[0m\u001b[0;34m]\u001b[0m\u001b[0;34m\u001b[0m\u001b[0m\n\u001b[0m\u001b[1;32m    396\u001b[0m         \u001b[0;31m# have first part already, only loop while more to receive\u001b[0m\u001b[0;34m\u001b[0m\u001b[0;34m\u001b[0m\u001b[0m\n",
      "\u001b[0;32mzmq/backend/cython/socket.pyx\u001b[0m in \u001b[0;36mzmq.backend.cython.socket.Socket.recv (zmq/backend/cython/socket.c:7683)\u001b[0;34m()\u001b[0m\n",
      "\u001b[0;32mzmq/backend/cython/socket.pyx\u001b[0m in \u001b[0;36mzmq.backend.cython.socket.Socket.recv (zmq/backend/cython/socket.c:7460)\u001b[0;34m()\u001b[0m\n",
      "\u001b[0;32mzmq/backend/cython/socket.pyx\u001b[0m in \u001b[0;36mzmq.backend.cython.socket._recv_copy (zmq/backend/cython/socket.c:2344)\u001b[0;34m()\u001b[0m\n",
      "\u001b[0;32m/Users/Koki/.pyenv/versions/anaconda3-4.3.1/envs/py35/lib/python3.5/site-packages/zmq/backend/cython/checkrc.pxd\u001b[0m in \u001b[0;36mzmq.backend.cython.checkrc._check_rc (zmq/backend/cython/socket.c:9621)\u001b[0;34m()\u001b[0m\n",
      "\u001b[0;31mKeyboardInterrupt\u001b[0m: ",
      "\nDuring handling of the above exception, another exception occurred:\n",
      "\u001b[0;31mKeyboardInterrupt\u001b[0m                         Traceback (most recent call last)",
      "\u001b[0;32m<ipython-input-58-1c49f130e8e3>\u001b[0m in \u001b[0;36m<module>\u001b[0;34m()\u001b[0m\n\u001b[1;32m      2\u001b[0m \u001b[0mave\u001b[0m\u001b[0;34m=\u001b[0m\u001b[0;34m-\u001b[0m\u001b[0;36m0.3003982968868934\u001b[0m\u001b[0;34m\u001b[0m\u001b[0m\n\u001b[1;32m      3\u001b[0m \u001b[0mstd\u001b[0m\u001b[0;34m=\u001b[0m\u001b[0;36m0.06567610108001085\u001b[0m\u001b[0;34m\u001b[0m\u001b[0m\n\u001b[0;32m----> 4\u001b[0;31m \u001b[0mscname\u001b[0m\u001b[0;34m=\u001b[0m\u001b[0minput\u001b[0m\u001b[0;34m(\u001b[0m\u001b[0;34m)\u001b[0m\u001b[0;34m\u001b[0m\u001b[0m\n\u001b[0m\u001b[1;32m      5\u001b[0m \u001b[0musid\u001b[0m\u001b[0;34m=\u001b[0m\u001b[0mget_usid\u001b[0m\u001b[0;34m(\u001b[0m\u001b[0mscname\u001b[0m\u001b[0;34m)\u001b[0m\u001b[0;34m\u001b[0m\u001b[0m\n\u001b[1;32m      6\u001b[0m \u001b[0mtweet_list\u001b[0m\u001b[0;34m=\u001b[0m\u001b[0;34m[\u001b[0m\u001b[0;34m]\u001b[0m\u001b[0;34m\u001b[0m\u001b[0m\n",
      "\u001b[0;32m/Users/Koki/.pyenv/versions/anaconda3-4.3.1/envs/py35/lib/python3.5/site-packages/ipykernel/kernelbase.py\u001b[0m in \u001b[0;36mraw_input\u001b[0;34m(self, prompt)\u001b[0m\n\u001b[1;32m    703\u001b[0m             \u001b[0mself\u001b[0m\u001b[0;34m.\u001b[0m\u001b[0m_parent_ident\u001b[0m\u001b[0;34m,\u001b[0m\u001b[0;34m\u001b[0m\u001b[0m\n\u001b[1;32m    704\u001b[0m             \u001b[0mself\u001b[0m\u001b[0;34m.\u001b[0m\u001b[0m_parent_header\u001b[0m\u001b[0;34m,\u001b[0m\u001b[0;34m\u001b[0m\u001b[0m\n\u001b[0;32m--> 705\u001b[0;31m             \u001b[0mpassword\u001b[0m\u001b[0;34m=\u001b[0m\u001b[0;32mFalse\u001b[0m\u001b[0;34m,\u001b[0m\u001b[0;34m\u001b[0m\u001b[0m\n\u001b[0m\u001b[1;32m    706\u001b[0m         )\n\u001b[1;32m    707\u001b[0m \u001b[0;34m\u001b[0m\u001b[0m\n",
      "\u001b[0;32m/Users/Koki/.pyenv/versions/anaconda3-4.3.1/envs/py35/lib/python3.5/site-packages/ipykernel/kernelbase.py\u001b[0m in \u001b[0;36m_input_request\u001b[0;34m(self, prompt, ident, parent, password)\u001b[0m\n\u001b[1;32m    733\u001b[0m             \u001b[0;32mexcept\u001b[0m \u001b[0mKeyboardInterrupt\u001b[0m\u001b[0;34m:\u001b[0m\u001b[0;34m\u001b[0m\u001b[0m\n\u001b[1;32m    734\u001b[0m                 \u001b[0;31m# re-raise KeyboardInterrupt, to truncate traceback\u001b[0m\u001b[0;34m\u001b[0m\u001b[0;34m\u001b[0m\u001b[0m\n\u001b[0;32m--> 735\u001b[0;31m                 \u001b[0;32mraise\u001b[0m \u001b[0mKeyboardInterrupt\u001b[0m\u001b[0;34m\u001b[0m\u001b[0m\n\u001b[0m\u001b[1;32m    736\u001b[0m             \u001b[0;32melse\u001b[0m\u001b[0;34m:\u001b[0m\u001b[0;34m\u001b[0m\u001b[0m\n\u001b[1;32m    737\u001b[0m                 \u001b[0;32mbreak\u001b[0m\u001b[0;34m\u001b[0m\u001b[0m\n",
      "\u001b[0;31mKeyboardInterrupt\u001b[0m: "
     ]
    }
   ],
   "source": [
    "##実際の計算!!!\n",
    "ave=-0.3003982968868934\n",
    "std=0.06567610108001085\n",
    "scname=input()\n",
    "usid=get_usid(scname)\n",
    "tweet_list=[]\n",
    "tweet_list=get_tweet(usid)\n",
    "print(len(tweet_list))\n",
    "score=calc_score(tweet_list)\n",
    "dev=calc_dev(score,ave,std)\n",
    "print(\"ポジティブ偏差値は : \"+str(dev))"
   ]
  },
  {
   "cell_type": "code",
   "execution_count": null,
   "metadata": {
    "collapsed": true
   },
   "outputs": [],
   "source": [
    "@ozaken: 62.6739135436439\n",
    "@nappippi_:60.534409415700125\n",
    "@yaba_k:50.56213937680392\n",
    "@12satouT:84.98402371104332"
   ]
  }
 ],
 "metadata": {
  "kernelspec": {
   "display_name": "py35",
   "language": "python",
   "name": "py35"
  },
  "language_info": {
   "codemirror_mode": {
    "name": "ipython",
    "version": 3
   },
   "file_extension": ".py",
   "mimetype": "text/x-python",
   "name": "python",
   "nbconvert_exporter": "python",
   "pygments_lexer": "ipython3",
   "version": "3.5.3"
  }
 },
 "nbformat": 4,
 "nbformat_minor": 2
}
