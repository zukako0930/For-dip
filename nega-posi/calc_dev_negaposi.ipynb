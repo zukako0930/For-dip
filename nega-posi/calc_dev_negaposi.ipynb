{
 "cells": [
  {
   "cell_type": "markdown",
   "metadata": {},
   "source": [
    "## 現在の目標(9/1)\n",
    "### 偏差値出すところまでは終わった.\n",
    "### ネガティブなtweet上位とポジティブなtweet上位を表示する!!!"
   ]
  },
  {
   "cell_type": "code",
   "execution_count": 1,
   "metadata": {
    "collapsed": true
   },
   "outputs": [],
   "source": [
    "import nega_posi\n",
    "from natto import MeCab\n",
    "\n",
    "from requests_oauthlib import OAuth1Session\n",
    "from collections import defaultdict\n",
    "import json\n",
    "\n",
    "CK = '3rJOl1ODzm9yZy63FACdg'                             # Consumer Key\n",
    "CS = '5jPoQ5kQvMJFDYRNE8bQ4rHuds4xJqhvgNJM4awaE8'         # Consumer Secret\n",
    "AT = '2956677620-D7KuhxlChnM27XgQ9WoFJR4haZuTPgTnBVrKe1K' # Access Token\n",
    "AS = '2qTkh1PC1OIL6rCPyNKUnmHV8Rf70XCODczCTFdp5n1uq'         # Accesss Token Secert"
   ]
  },
  {
   "cell_type": "code",
   "execution_count": 2,
   "metadata": {
    "collapsed": true
   },
   "outputs": [],
   "source": [
    "def get_usid(scname):\n",
    "    url = \"https://api.twitter.com/1.1/users/show.json\"\n",
    "    # とくにパラメータは無い\n",
    "    params = { \"screen_name\" : scname}\n",
    "    # OAuth で GET\n",
    "    twitter = OAuth1Session(CK, CS, AT, AS)\n",
    "    req = twitter.get(url, params = params)\n",
    "    n = 0\n",
    "    if req.status_code == 200:\n",
    "        timeline2 = json.loads(req.text)\n",
    "        print(timeline2[\"id\"])\n",
    "        return timeline2[\"id\"]\n",
    "    else:\n",
    "        return 0"
   ]
  },
  {
   "cell_type": "code",
   "execution_count": 3,
   "metadata": {
    "collapsed": true
   },
   "outputs": [],
   "source": [
    "def get_tweet(usid):\n",
    "    tweet_list=[]\n",
    "    # タイムライン取得用のURL\n",
    "    url = \"https://api.twitter.com/1.1/statuses/user_timeline.json?count=100\"\n",
    "    # とくにパラメータは無い\n",
    "    params = { \"user_id\" : usid}\n",
    "    # OAuth で GET\n",
    "    twitter = OAuth1Session(CK, CS, AT, AS)\n",
    "    req = twitter.get(url, params = params)\n",
    "    n = 0\n",
    "    # print(users[\"id_str\"])\n",
    "    if req.status_code == 200:\n",
    "        # レスポンスはJSON形式なので parse する\n",
    "        timeline = json.loads(req.text)\n",
    "        # 各ツイートの本文を表示\n",
    "        for tweet in timeline:\n",
    "            tweet_list.append(tweet[\"text\"])\n",
    "        return tweet_list\n",
    "#         print(tweet_list)        \n",
    "    else:\n",
    "        # エラーの場合\n",
    "        print (\"Error: %d\" % req.status_code)\n",
    "        return 0"
   ]
  },
  {
   "cell_type": "code",
   "execution_count": 12,
   "metadata": {
    "collapsed": false
   },
   "outputs": [],
   "source": [
    "def calc_score(tweet_list):\n",
    "    score=0\n",
    "    sum_score=0\n",
    "    sc_list=[]\n",
    "    for idx,tweet in enumerate(tweet_list):\n",
    "#         print(idx)\n",
    "        tw1=nega_posi.JudgeClass(tweet)\n",
    "        tw1.make_wlist()\n",
    "        score_dict=tw1.make_dict()\n",
    "        tw1.make_judge_list()\n",
    "        score=tw1.calc_score(score_dict)\n",
    "        sum_score+=score\n",
    "        sc_list.append(score)\n",
    "    if len(tweet_list) == 0:\n",
    "        return 0\n",
    "    else:\n",
    "        max_idx=search_max_idx(sc_list)\n",
    "        for i,idx in enumerate(max_idx):\n",
    "            print(\"positive \"+str(i+1)+\"位: \"+str(tweet_list[idx]))\n",
    "        min_idx=search_min_idx(sc_list)\n",
    "        for i,idx in enumerate(min_idx):\n",
    "            print(\"negative \"+str(i+1)+\"位: \"+str(tweet_list[idx]))\n",
    "        print(max_idx)\n",
    "        print(min_idx)\n",
    "        print(\"全体平均\"+str(sum_score/len(tweet_list)))        \n",
    "        return sum_score/len(tweet_list)"
   ]
  },
  {
   "cell_type": "code",
   "execution_count": 5,
   "metadata": {
    "collapsed": true
   },
   "outputs": [],
   "source": [
    "import numpy as np\n",
    "def search_max_idx(sc_list):\n",
    "    my_array=np.array(sc_list)\n",
    "    #探す対象リスト:my_arrayはnumpy\n",
    "    #例:上位3件\n",
    "    K = 3\n",
    "    # ソートはされていない上位k件のインデックス\n",
    "    unsorted_max_indices = np.argpartition(-my_array, K)[:K]\n",
    "    # 上位k件の値\n",
    "    y = my_array[unsorted_max_indices]\n",
    "    # 大きい順にソートし、インデックスを取得\n",
    "    max_indices = np.argsort(-y)\n",
    "    # 類似度上位k件のインデックス\n",
    "    max_k_indices = unsorted_max_indices[max_indices]\n",
    "    return max_k_indices"
   ]
  },
  {
   "cell_type": "code",
   "execution_count": 6,
   "metadata": {
    "collapsed": true
   },
   "outputs": [],
   "source": [
    "def search_min_idx(sc_list):\n",
    "    my_array=np.array(sc_list)\n",
    "    my_array=my_array*(-1)\n",
    "    #探す対象リスト:my_arrayはnumpy\n",
    "    #例:上位3件\n",
    "    K = 3\n",
    "    # ソートはされていない上位k件のインデックス\n",
    "    unsorted_max_indices = np.argpartition(-my_array, K)[:K]\n",
    "    # 上位k件の値\n",
    "    y = my_array[unsorted_max_indices]\n",
    "    # 大きい順にソートし、インデックスを取得\n",
    "    max_indices = np.argsort(-y)\n",
    "    # 類似度上位k件のインデックス\n",
    "    max_k_indices = unsorted_max_indices[max_indices]\n",
    "    return max_k_indices"
   ]
  },
  {
   "cell_type": "code",
   "execution_count": 7,
   "metadata": {
    "collapsed": true
   },
   "outputs": [],
   "source": [
    "# def calc_score(tweet_list):\n",
    "#     score=0\n",
    "#     sum_score=0\n",
    "#     max_score=-1\n",
    "#     min_score=1\n",
    "#     for idx,tweet in enumerate(tweet_list):\n",
    "# #         print(idx)\n",
    "#         tw1=nega_posi.JudgeClass(tweet)\n",
    "#         tw1.make_wlist()\n",
    "#         score_dict=tw1.make_dict()\n",
    "#         tw1.make_judge_list()\n",
    "#         score=tw1.calc_score(score_dict)\n",
    "#         if score >max_score:\n",
    "#             max_idx=idx\n",
    "#             max_score=score\n",
    "#         if score < min_score:\n",
    "#             min_idx=idx\n",
    "#             min_score=score\n",
    "#         sum_score+=score\n",
    "#     if len(tweet_list) == 0:\n",
    "#         return 0\n",
    "#     else:\n",
    "#         print(\"全体平均\"+str(sum_score/len(tweet_list)))\n",
    "#         #scorelistから上位のindexを取得\n",
    "#         print(\"positive:\"+ tweet_list[max_idx])\n",
    "#         print(\"negative:\"+tweet_list[min_idx])\n",
    "#         return sum_score/len(tweet_list)\n",
    "# # "
   ]
  },
  {
   "cell_type": "code",
   "execution_count": 8,
   "metadata": {
    "collapsed": false
   },
   "outputs": [],
   "source": [
    "def calc_dev(score,ave,std):\n",
    "    return (50+10*(score-ave)/std)"
   ]
  },
  {
   "cell_type": "code",
   "execution_count": 17,
   "metadata": {
    "collapsed": false,
    "scrolled": true
   },
   "outputs": [
    {
     "name": "stdout",
     "output_type": "stream",
     "text": [
      "Bashiiiiii0603\n",
      "3271167228\n",
      "positive 1位: RT @takapon_jp: いいね！ https://t.co/7KDCIBOpQq\n",
      "positive 2位: @lila_0024 おめでたい＼(^^)／\n",
      "positive 3位: VALUで見つけたらんらんちゃん@pascarrr すごく面白くていい\n",
      "negative 1位: @akira19890620 そういう日ってありますよね(｀・ω・´)\n",
      "negative 2位: @yaba_k 社長にご馳走になろ😜\n",
      "negative 3位: 靴1700円だ(｀・ω・´)\n",
      "\n",
      "#CASH #cash https://t.co/beKlfDwLQz\n",
      "[75 47 92]\n",
      "[52 23 98]\n",
      "全体平均-0.283826243087737\n",
      "ポジティブ偏差値は : 52.523300489316085\n"
     ]
    }
   ],
   "source": [
    "##実際の計算!!!\n",
    "ave=-0.3003982968868934\n",
    "std=0.06567610108001085\n",
    "\n",
    "scname=input()\n",
    "usid=get_usid(scname)\n",
    "tweet_list=[]\n",
    "tweet_list=get_tweet(usid)\n",
    "score=calc_score(tweet_list)\n",
    "dev=calc_dev(score,ave,std)\n",
    "print(\"ポジティブ偏差値は : \"+str(dev))"
   ]
  },
  {
   "cell_type": "code",
   "execution_count": null,
   "metadata": {
    "collapsed": true
   },
   "outputs": [],
   "source": [
    "@ozaken: 62.6739135436439\n",
    "@nappippi_:60.534409415700125\n",
    "@yaba_k:50.56213937680392\n"
   ]
  }
 ],
 "metadata": {
  "kernelspec": {
   "display_name": "py35",
   "language": "python",
   "name": "py35"
  },
  "language_info": {
   "codemirror_mode": {
    "name": "ipython",
    "version": 3
   },
   "file_extension": ".py",
   "mimetype": "text/x-python",
   "name": "python",
   "nbconvert_exporter": "python",
   "pygments_lexer": "ipython3",
   "version": "3.5.3"
  }
 },
 "nbformat": 4,
 "nbformat_minor": 2
}
