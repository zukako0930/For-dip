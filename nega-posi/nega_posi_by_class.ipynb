{
 "cells": [
  {
   "cell_type": "code",
   "execution_count": 1,
   "metadata": {
    "collapsed": false
   },
   "outputs": [
    {
     "name": "stderr",
     "output_type": "stream",
     "text": [
      "[Errno 2] No such file or directory: 'mecab-config'\n",
      "\n",
      "<class 'FileNotFoundError'>\n",
      "\n",
      "Could not initialize MeCab: libmecab.dylib could not be found, please use MECAB_PATH\n"
     ]
    },
    {
     "ename": "MeCabError",
     "evalue": "libmecab.dylib could not be found, please use MECAB_PATH",
     "output_type": "error",
     "traceback": [
      "\u001b[0;31m---------------------------------------------------------------------------\u001b[0m",
      "\u001b[0;31mFileNotFoundError\u001b[0m                         Traceback (most recent call last)",
      "\u001b[0;32m/Users/Koki/.pyenv/versions/anaconda3-4.3.1/envs/py35/lib/python3.5/site-packages/natto/environment.py\u001b[0m in \u001b[0;36m__get_libpath\u001b[0;34m(self)\u001b[0m\n\u001b[1;32m    143\u001b[0m                     \u001b[0mcmd\u001b[0m \u001b[0;34m=\u001b[0m \u001b[0;34m[\u001b[0m\u001b[0;34m'mecab-config'\u001b[0m\u001b[0;34m,\u001b[0m \u001b[0;34m'--libs-only-L'\u001b[0m\u001b[0;34m]\u001b[0m\u001b[0;34m\u001b[0m\u001b[0m\n\u001b[0;32m--> 144\u001b[0;31m                     \u001b[0mres\u001b[0m \u001b[0;34m=\u001b[0m \u001b[0mPopen\u001b[0m\u001b[0;34m(\u001b[0m\u001b[0mcmd\u001b[0m\u001b[0;34m,\u001b[0m \u001b[0mstdout\u001b[0m\u001b[0;34m=\u001b[0m\u001b[0mPIPE\u001b[0m\u001b[0;34m)\u001b[0m\u001b[0;34m.\u001b[0m\u001b[0mcommunicate\u001b[0m\u001b[0;34m(\u001b[0m\u001b[0;34m)\u001b[0m\u001b[0;34m\u001b[0m\u001b[0m\n\u001b[0m\u001b[1;32m    145\u001b[0m                     \u001b[0mlines\u001b[0m \u001b[0;34m=\u001b[0m \u001b[0mres\u001b[0m\u001b[0;34m[\u001b[0m\u001b[0;36m0\u001b[0m\u001b[0;34m]\u001b[0m\u001b[0;34m.\u001b[0m\u001b[0mdecode\u001b[0m\u001b[0;34m(\u001b[0m\u001b[0;34m)\u001b[0m\u001b[0;34m\u001b[0m\u001b[0m\n",
      "\u001b[0;32m/Users/Koki/.pyenv/versions/anaconda3-4.3.1/envs/py35/lib/python3.5/subprocess.py\u001b[0m in \u001b[0;36m__init__\u001b[0;34m(self, args, bufsize, executable, stdin, stdout, stderr, preexec_fn, close_fds, shell, cwd, env, universal_newlines, startupinfo, creationflags, restore_signals, start_new_session, pass_fds)\u001b[0m\n\u001b[1;32m    675\u001b[0m                                 \u001b[0merrread\u001b[0m\u001b[0;34m,\u001b[0m \u001b[0merrwrite\u001b[0m\u001b[0;34m,\u001b[0m\u001b[0;34m\u001b[0m\u001b[0m\n\u001b[0;32m--> 676\u001b[0;31m                                 restore_signals, start_new_session)\n\u001b[0m\u001b[1;32m    677\u001b[0m         \u001b[0;32mexcept\u001b[0m\u001b[0;34m:\u001b[0m\u001b[0;34m\u001b[0m\u001b[0m\n",
      "\u001b[0;32m/Users/Koki/.pyenv/versions/anaconda3-4.3.1/envs/py35/lib/python3.5/subprocess.py\u001b[0m in \u001b[0;36m_execute_child\u001b[0;34m(self, args, executable, preexec_fn, close_fds, pass_fds, cwd, env, startupinfo, creationflags, shell, p2cread, p2cwrite, c2pread, c2pwrite, errread, errwrite, restore_signals, start_new_session)\u001b[0m\n\u001b[1;32m   1281\u001b[0m                                 \u001b[0merr_msg\u001b[0m \u001b[0;34m+=\u001b[0m \u001b[0;34m': '\u001b[0m \u001b[0;34m+\u001b[0m \u001b[0mrepr\u001b[0m\u001b[0;34m(\u001b[0m\u001b[0morig_executable\u001b[0m\u001b[0;34m)\u001b[0m\u001b[0;34m\u001b[0m\u001b[0m\n\u001b[0;32m-> 1282\u001b[0;31m                     \u001b[0;32mraise\u001b[0m \u001b[0mchild_exception_type\u001b[0m\u001b[0;34m(\u001b[0m\u001b[0merrno_num\u001b[0m\u001b[0;34m,\u001b[0m \u001b[0merr_msg\u001b[0m\u001b[0;34m)\u001b[0m\u001b[0;34m\u001b[0m\u001b[0m\n\u001b[0m\u001b[1;32m   1283\u001b[0m                 \u001b[0;32mraise\u001b[0m \u001b[0mchild_exception_type\u001b[0m\u001b[0;34m(\u001b[0m\u001b[0merr_msg\u001b[0m\u001b[0;34m)\u001b[0m\u001b[0;34m\u001b[0m\u001b[0m\n",
      "\u001b[0;31mFileNotFoundError\u001b[0m: [Errno 2] No such file or directory: 'mecab-config'",
      "\nDuring handling of the above exception, another exception occurred:\n",
      "\u001b[0;31mOSError\u001b[0m                                   Traceback (most recent call last)",
      "\u001b[0;32m/Users/Koki/.pyenv/versions/anaconda3-4.3.1/envs/py35/lib/python3.5/site-packages/natto/mecab.py\u001b[0m in \u001b[0;36m__init__\u001b[0;34m(self, options, **kwargs)\u001b[0m\n\u001b[1;32m    143\u001b[0m         \u001b[0;32mtry\u001b[0m\u001b[0;34m:\u001b[0m\u001b[0;34m\u001b[0m\u001b[0m\n\u001b[0;32m--> 144\u001b[0;31m             \u001b[0menv\u001b[0m \u001b[0;34m=\u001b[0m \u001b[0mMeCabEnv\u001b[0m\u001b[0;34m(\u001b[0m\u001b[0;34m**\u001b[0m\u001b[0mkwargs\u001b[0m\u001b[0;34m)\u001b[0m\u001b[0;34m\u001b[0m\u001b[0m\n\u001b[0m\u001b[1;32m    145\u001b[0m             \u001b[0mself\u001b[0m\u001b[0;34m.\u001b[0m\u001b[0m__ffi\u001b[0m \u001b[0;34m=\u001b[0m \u001b[0m_ffi_libmecab\u001b[0m\u001b[0;34m(\u001b[0m\u001b[0;34m)\u001b[0m\u001b[0;34m\u001b[0m\u001b[0m\n",
      "\u001b[0;32m/Users/Koki/.pyenv/versions/anaconda3-4.3.1/envs/py35/lib/python3.5/site-packages/natto/environment.py\u001b[0m in \u001b[0;36m__init__\u001b[0;34m(self, **kwargs)\u001b[0m\n\u001b[1;32m     52\u001b[0m         \u001b[0mself\u001b[0m\u001b[0;34m.\u001b[0m\u001b[0mcharset\u001b[0m \u001b[0;34m=\u001b[0m \u001b[0mself\u001b[0m\u001b[0;34m.\u001b[0m\u001b[0m__get_charset\u001b[0m\u001b[0;34m(\u001b[0m\u001b[0;34m)\u001b[0m\u001b[0;34m\u001b[0m\u001b[0m\n\u001b[0;32m---> 53\u001b[0;31m         \u001b[0mself\u001b[0m\u001b[0;34m.\u001b[0m\u001b[0mlibpath\u001b[0m \u001b[0;34m=\u001b[0m \u001b[0mself\u001b[0m\u001b[0;34m.\u001b[0m\u001b[0m__get_libpath\u001b[0m\u001b[0;34m(\u001b[0m\u001b[0;34m)\u001b[0m\u001b[0;34m\u001b[0m\u001b[0m\n\u001b[0m\u001b[1;32m     54\u001b[0m \u001b[0;34m\u001b[0m\u001b[0m\n",
      "\u001b[0;32m/Users/Koki/.pyenv/versions/anaconda3-4.3.1/envs/py35/lib/python3.5/site-packages/natto/environment.py\u001b[0m in \u001b[0;36m__get_libpath\u001b[0;34m(self)\u001b[0m\n\u001b[1;32m    154\u001b[0m                     \u001b[0mlogger\u001b[0m\u001b[0;34m.\u001b[0m\u001b[0merror\u001b[0m\u001b[0;34m(\u001b[0m\u001b[0;34m'{}\\n'\u001b[0m\u001b[0;34m.\u001b[0m\u001b[0mformat\u001b[0m\u001b[0;34m(\u001b[0m\u001b[0msys\u001b[0m\u001b[0;34m.\u001b[0m\u001b[0mexc_info\u001b[0m\u001b[0;34m(\u001b[0m\u001b[0;34m)\u001b[0m\u001b[0;34m[\u001b[0m\u001b[0;36m0\u001b[0m\u001b[0;34m]\u001b[0m\u001b[0;34m)\u001b[0m\u001b[0;34m)\u001b[0m\u001b[0;34m\u001b[0m\u001b[0m\n\u001b[0;32m--> 155\u001b[0;31m                     \u001b[0;32mraise\u001b[0m \u001b[0mEnvironmentError\u001b[0m\u001b[0;34m(\u001b[0m\u001b[0mself\u001b[0m\u001b[0;34m.\u001b[0m\u001b[0m_ERROR_NOLIB\u001b[0m\u001b[0;34m.\u001b[0m\u001b[0mformat\u001b[0m\u001b[0;34m(\u001b[0m\u001b[0mlib\u001b[0m\u001b[0;34m)\u001b[0m\u001b[0;34m)\u001b[0m\u001b[0;34m\u001b[0m\u001b[0m\n\u001b[0m\u001b[1;32m    156\u001b[0m \u001b[0;34m\u001b[0m\u001b[0m\n",
      "\u001b[0;31mOSError\u001b[0m: libmecab.dylib could not be found, please use MECAB_PATH",
      "\nDuring handling of the above exception, another exception occurred:\n",
      "\u001b[0;31mMeCabError\u001b[0m                                Traceback (most recent call last)",
      "\u001b[0;32m<ipython-input-1-e02337866453>\u001b[0m in \u001b[0;36m<module>\u001b[0;34m()\u001b[0m\n\u001b[0;32m----> 1\u001b[0;31m \u001b[0;32mimport\u001b[0m \u001b[0mnega_posi\u001b[0m\u001b[0;34m\u001b[0m\u001b[0m\n\u001b[0m\u001b[1;32m      2\u001b[0m \u001b[0;32mfrom\u001b[0m \u001b[0mnatto\u001b[0m \u001b[0;32mimport\u001b[0m \u001b[0mMeCab\u001b[0m\u001b[0;34m\u001b[0m\u001b[0m\n\u001b[1;32m      3\u001b[0m \u001b[0mnm\u001b[0m\u001b[0;34m=\u001b[0m\u001b[0mMeCab\u001b[0m\u001b[0;34m(\u001b[0m\u001b[0;34m)\u001b[0m\u001b[0;34m\u001b[0m\u001b[0m\n",
      "\u001b[0;32m/Users/Koki/Documents/python scripts/For-dip4/nega-posi/nega_posi.py\u001b[0m in \u001b[0;36m<module>\u001b[0;34m()\u001b[0m\n\u001b[1;32m      1\u001b[0m \u001b[0;32mfrom\u001b[0m \u001b[0mnatto\u001b[0m \u001b[0;32mimport\u001b[0m \u001b[0mMeCab\u001b[0m\u001b[0;34m\u001b[0m\u001b[0m\n\u001b[0;32m----> 2\u001b[0;31m \u001b[0mnm\u001b[0m\u001b[0;34m=\u001b[0m\u001b[0mMeCab\u001b[0m\u001b[0;34m(\u001b[0m\u001b[0;34m)\u001b[0m\u001b[0;34m\u001b[0m\u001b[0m\n\u001b[0m\u001b[1;32m      3\u001b[0m \u001b[0;34m\u001b[0m\u001b[0m\n\u001b[1;32m      4\u001b[0m \u001b[0;32mclass\u001b[0m \u001b[0mJudgeClass\u001b[0m \u001b[0;34m:\u001b[0m\u001b[0;34m\u001b[0m\u001b[0m\n\u001b[1;32m      5\u001b[0m     \u001b[0;31m#初期化\u001b[0m\u001b[0;34m\u001b[0m\u001b[0;34m\u001b[0m\u001b[0m\n",
      "\u001b[0;32m/Users/Koki/.pyenv/versions/anaconda3-4.3.1/envs/py35/lib/python3.5/site-packages/natto/mecab.py\u001b[0m in \u001b[0;36m__init__\u001b[0;34m(self, options, **kwargs)\u001b[0m\n\u001b[1;32m    217\u001b[0m         \u001b[0;32mexcept\u001b[0m \u001b[0mEnvironmentError\u001b[0m \u001b[0;32mas\u001b[0m \u001b[0merr\u001b[0m\u001b[0;34m:\u001b[0m\u001b[0;34m\u001b[0m\u001b[0m\n\u001b[1;32m    218\u001b[0m             \u001b[0mlogger\u001b[0m\u001b[0;34m.\u001b[0m\u001b[0merror\u001b[0m\u001b[0;34m(\u001b[0m\u001b[0mself\u001b[0m\u001b[0;34m.\u001b[0m\u001b[0m_ERROR_INIT\u001b[0m\u001b[0;34m.\u001b[0m\u001b[0mformat\u001b[0m\u001b[0;34m(\u001b[0m\u001b[0mstr\u001b[0m\u001b[0;34m(\u001b[0m\u001b[0merr\u001b[0m\u001b[0;34m)\u001b[0m\u001b[0;34m)\u001b[0m\u001b[0;34m)\u001b[0m\u001b[0;34m\u001b[0m\u001b[0m\n\u001b[0;32m--> 219\u001b[0;31m             \u001b[0;32mraise\u001b[0m \u001b[0mMeCabError\u001b[0m\u001b[0;34m(\u001b[0m\u001b[0merr\u001b[0m\u001b[0;34m)\u001b[0m\u001b[0;34m\u001b[0m\u001b[0m\n\u001b[0m\u001b[1;32m    220\u001b[0m         \u001b[0;32mexcept\u001b[0m \u001b[0mValueError\u001b[0m \u001b[0;32mas\u001b[0m \u001b[0mverr\u001b[0m\u001b[0;34m:\u001b[0m\u001b[0;34m\u001b[0m\u001b[0m\n\u001b[1;32m    221\u001b[0m             \u001b[0mlogger\u001b[0m\u001b[0;34m.\u001b[0m\u001b[0merror\u001b[0m\u001b[0;34m(\u001b[0m\u001b[0mself\u001b[0m\u001b[0;34m.\u001b[0m\u001b[0m_ERROR_INIT\u001b[0m\u001b[0;34m.\u001b[0m\u001b[0mformat\u001b[0m\u001b[0;34m(\u001b[0m\u001b[0mstr\u001b[0m\u001b[0;34m(\u001b[0m\u001b[0mverr\u001b[0m\u001b[0;34m)\u001b[0m\u001b[0;34m)\u001b[0m\u001b[0;34m)\u001b[0m\u001b[0;34m\u001b[0m\u001b[0m\n",
      "\u001b[0;31mMeCabError\u001b[0m: libmecab.dylib could not be found, please use MECAB_PATH"
     ]
    }
   ],
   "source": [
    "import nega_posi\n",
    "from natto import MeCab\n",
    "nm=MeCab()"
   ]
  },
  {
   "cell_type": "code",
   "execution_count": 2,
   "metadata": {
    "collapsed": false
   },
   "outputs": [],
   "source": [
    "tw1=nega_posi.JudgeClass(\"高専楽しすぎワロタｗｗｗｗｗ男女でワイワイ…┏(;^o^)┓あれ…？(;^o^)おんな？！(^o^;≡;^o^)女どこ？！(;^o^)女がいない…≡┏( ^o^)┓女の子どこ！≡┗( ^o^)┛おんな！≡┏( ^o^)┓おんな！≡┗( ^o^)┛じゃあ俺が女の子になるっ！\")"
   ]
  },
  {
   "cell_type": "code",
   "execution_count": 3,
   "metadata": {
    "collapsed": true
   },
   "outputs": [],
   "source": [
    "score_dict=tw1.make_dict()"
   ]
  },
  {
   "cell_type": "code",
   "execution_count": 4,
   "metadata": {
    "collapsed": false
   },
   "outputs": [],
   "source": [
    "tw1.make_wlist()"
   ]
  },
  {
   "cell_type": "code",
   "execution_count": 5,
   "metadata": {
    "collapsed": false
   },
   "outputs": [
    {
     "name": "stdout",
     "output_type": "stream",
     "text": [
      "[['名詞', '一般', '*', '*', '*', '*', '高専', 'コウセン', 'コーセン'], ['形容詞', '自立', '*', '*', '形容詞・イ段', 'ガル接続', '楽しい', 'タノシ', 'タノシ'], ['名詞', '接尾', '一般', '*', '*', '*', 'すぎ', 'スギ', 'スギ'], ['名詞', '一般', '*', '*', '*', '*', '*'], ['名詞', '一般', '*', '*', '*', '*', '*'], ['名詞', '一般', '*', '*', '*', '*', '男女', 'ダンジョ', 'ダンジョ'], ['で\\t助詞', '格助詞', '一般', '*', '*', '*', 'で', 'デ', 'デ'], ['副詞', '一般', '*', '*', '*', '*', 'ワイワイ', 'ワイワイ', 'ワイワイ'], ['…\\t記号', '一般', '*', '*', '*', '*', '…', '…', '…'], ['名詞', 'サ変接続', '*', '*', '*', '*', '*'], ['名詞', '一般', '*', '*', '*', '*', '*'], ['名詞', 'サ変接続', '*', '*', '*', '*', '*'], ['動詞', '自立', '*', '*', '五段・ラ行', '命令ｅ', 'ある', 'アレ', 'アレ'], ['…\\t記号', '一般', '*', '*', '*', '*', '…', '…', '…'], ['名詞', 'サ変接続', '*', '*', '*', '*', '*'], ['名詞', '一般', '*', '*', '*', '*', '*'], ['名詞', 'サ変接続', '*', '*', '*', '*', '*'], ['名詞', '一般', '*', '*', '*', '*', 'おんな', 'オンナ', 'オンナ'], ['名詞', 'サ変接続', '*', '*', '*', '*', '*'], ['名詞', '一般', '*', '*', '*', '*', '*'], ['名詞', 'サ変接続', '*', '*', '*', '*', '*'], ['名詞', '一般', '*', '*', '*', '*', '*'], ['名詞', 'サ変接続', '*', '*', '*', '*', '*'], ['名詞', '一般', '*', '*', '*', '*', '女', 'オンナ', 'オンナ'], ['名詞', '代名詞', '一般', '*', '*', '*', 'どこ', 'ドコ', 'ドコ'], ['名詞', 'サ変接続', '*', '*', '*', '*', '*'], ['名詞', '一般', '*', '*', '*', '*', '*'], ['名詞', 'サ変接続', '*', '*', '*', '*', '*'], ['名詞', '一般', '*', '*', '*', '*', '女', 'オンナ', 'オンナ'], ['が\\t助詞', '格助詞', '一般', '*', '*', '*', 'が', 'ガ', 'ガ'], ['動詞', '自立', '*', '*', '一段', '未然形', 'いる', 'イ', 'イ'], ['動詞', '*', '*', '*', '特殊・ナイ', '基本形', 'ない', 'ナイ', 'ナイ'], ['…\\t記号', '一般', '*', '*', '*', '*', '…', '…', '…'], ['名詞', 'サ変接続', '*', '*', '*', '*', '*'], ['名詞', 'サ変接続', '*', '*', '*', '*', '*'], ['名詞', '一般', '*', '*', '*', '*', '*'], ['名詞', 'サ変接続', '*', '*', '*', '*', '*'], ['名詞', '一般', '*', '*', '*', '*', '女の子', 'オンナノコ', 'オンナノコ'], ['名詞', '代名詞', '一般', '*', '*', '*', 'どこ', 'ドコ', 'ドコ'], ['名詞', 'サ変接続', '*', '*', '*', '*', '*'], ['名詞', 'サ変接続', '*', '*', '*', '*', '*'], ['名詞', '一般', '*', '*', '*', '*', '*'], ['名詞', 'サ変接続', '*', '*', '*', '*', '*'], ['名詞', '一般', '*', '*', '*', '*', 'おんな', 'オンナ', 'オンナ'], ['名詞', 'サ変接続', '*', '*', '*', '*', '*'], ['名詞', 'サ変接続', '*', '*', '*', '*', '*'], ['名詞', '一般', '*', '*', '*', '*', '*'], ['名詞', 'サ変接続', '*', '*', '*', '*', '*'], ['名詞', '一般', '*', '*', '*', '*', 'おんな', 'オンナ', 'オンナ'], ['名詞', 'サ変接続', '*', '*', '*', '*', '*'], ['名詞', 'サ変接続', '*', '*', '*', '*', '*'], ['名詞', '一般', '*', '*', '*', '*', '*'], ['名詞', 'サ変接続', '*', '*', '*', '*', '*'], ['じゃあ\\t助詞', '副助詞', '*', '*', '*', '*', 'じゃあ', 'ジャア', 'ジャー'], ['名詞', '代名詞', '一般', '*', '*', '*', '俺', 'オレ', 'オレ'], ['が\\t助詞', '格助詞', '一般', '*', '*', '*', 'が', 'ガ', 'ガ'], ['名詞', '一般', '*', '*', '*', '*', '女の子', 'オンナノコ', 'オンナノコ'], ['に\\t助詞', '格助詞', '一般', '*', '*', '*', 'に', 'ニ', 'ニ'], ['動詞', '自立', '*', '*', '五段・ラ行', '基本形', 'なる', 'ナル', 'ナル'], ['動詞', '非自立', '*', '*', '五段・カ行促音便', '連用タ接続', 'く', 'ッ', 'ッ'], ['！\\t記号', '一般', '*', '*', '*', '*', '！', '！', '！']]\n"
     ]
    }
   ],
   "source": [
    "print(tw1.wlist)"
   ]
  },
  {
   "cell_type": "code",
   "execution_count": 6,
   "metadata": {
    "collapsed": false
   },
   "outputs": [],
   "source": [
    "tw1.make_judge_list()"
   ]
  },
  {
   "cell_type": "code",
   "execution_count": 7,
   "metadata": {
    "collapsed": false
   },
   "outputs": [
    {
     "name": "stdout",
     "output_type": "stream",
     "text": [
      "高専\n",
      "楽しい\n",
      "単語:0.995837,合計:0.995837\n",
      "すぎ\n",
      "単語:-0.584833,合計:0.4110039999999999\n",
      "男女\n",
      "単語:-0.0964235,合計:0.31458049999999993\n",
      "ワイワイ\n",
      "ある\n",
      "おんな\n",
      "単語:-0.173387,合計:0.14119349999999992\n",
      "女\n",
      "単語:-0.173387,合計:-0.0321935000000001\n",
      "どこ\n",
      "女\n",
      "単語:-0.173387,合計:-0.2055805000000001\n",
      "いる\n",
      "単語:-0.365478,合計:-0.5710585000000001\n",
      "ない\n",
      "単語:-0.54371,合計:-1.1147685000000003\n",
      "女の子\n",
      "単語:-0.580878,合計:-1.6956465000000003\n",
      "どこ\n",
      "おんな\n",
      "単語:-0.173387,合計:-1.8690335000000002\n",
      "おんな\n",
      "単語:-0.173387,合計:-2.0424205000000004\n",
      "俺\n",
      "女の子\n",
      "単語:-0.580878,合計:-2.6232985000000006\n",
      "なる\n",
      "単語:-0.749541,合計:-3.3728395000000004\n",
      "く\n",
      "単語:-0.315993,合計:-3.6888325000000006\n",
      "-0.26348803571428575\n"
     ]
    },
    {
     "data": {
      "text/plain": [
       "-0.26348803571428575"
      ]
     },
     "execution_count": 7,
     "metadata": {},
     "output_type": "execute_result"
    }
   ],
   "source": [
    "tw1.calc_score(score_dict)"
   ]
  },
  {
   "cell_type": "code",
   "execution_count": null,
   "metadata": {
    "collapsed": true
   },
   "outputs": [],
   "source": []
  }
 ],
 "metadata": {
  "kernelspec": {
   "display_name": "py35",
   "language": "python",
   "name": "py35"
  },
  "language_info": {
   "codemirror_mode": {
    "name": "ipython",
    "version": 3
   },
   "file_extension": ".py",
   "mimetype": "text/x-python",
   "name": "python",
   "nbconvert_exporter": "python",
   "pygments_lexer": "ipython3",
   "version": "3.5.3"
  }
 },
 "nbformat": 4,
 "nbformat_minor": 2
}
