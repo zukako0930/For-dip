{
 "cells": [
  {
   "cell_type": "code",
   "execution_count": 1,
   "metadata": {
    "collapsed": false
   },
   "outputs": [],
   "source": [
    "#natto-py から MeCabをインポート\n",
    "from natto import MeCab\n",
    "nm=MeCab()"
   ]
  },
  {
   "cell_type": "code",
   "execution_count": 2,
   "metadata": {
    "collapsed": true
   },
   "outputs": [],
   "source": [
    "tweet = \"アルバイト・パート本社は明治４２年創業、大阪中央郵便局内に職員食堂として開業。以後順調に業績を延ばし、全国２０ケ所に営業所を開設している。\""
   ]
  },
  {
   "cell_type": "code",
   "execution_count": 3,
   "metadata": {
    "collapsed": false
   },
   "outputs": [
    {
     "name": "stdout",
     "output_type": "stream",
     "text": [
      "1\t名詞,数,*,*,*,*,*\n",
      "日\t名詞,接尾,助数詞,*,*,*,日,ニチ,ニチ\n",
      "に\t助詞,格助詞,一般,*,*,*,に,ニ,ニ\n",
      "3\t名詞,数,*,*,*,*,*\n",
      "回\t名詞,接尾,助数詞,*,*,*,回,カイ,カイ\n",
      "くらい\t助詞,副助詞,*,*,*,*,くらい,クライ,クライ\n",
      "下駄\t名詞,一般,*,*,*,*,下駄,ゲタ,ゲタ\n",
      "の\t助詞,連体化,*,*,*,*,の,ノ,ノ\n",
      "かかと\t名詞,一般,*,*,*,*,かかと,カカト,カカト\n",
      "踏ま\t動詞,自立,*,*,五段・マ行,未然形,踏む,フマ,フマ\n",
      "れる\t動詞,接尾,*,*,一段,基本形,れる,レル,レル\n",
      "ん\t名詞,非自立,一般,*,*,*,ん,ン,ン\n",
      "だ\t助動詞,*,*,*,特殊・ダ,基本形,だ,ダ,ダ\n",
      "けど\t助詞,接続助詞,*,*,*,*,けど,ケド,ケド\n",
      "東京\t名詞,固有名詞,地域,一般,*,*,東京,トウキョウ,トーキョー\n",
      "の\t助詞,連体化,*,*,*,*,の,ノ,ノ\n",
      "人\t名詞,一般,*,*,*,*,人,ヒト,ヒト\n",
      "距離\t名詞,一般,*,*,*,*,距離,キョリ,キョリ\n",
      "感覚\t名詞,一般,*,*,*,*,感覚,カンカク,カンカク\n",
      "ぶっ\t接頭詞,動詞接続,*,*,*,*,ぶっ,ブッ,ブッ\n",
      "壊れ\t動詞,自立,*,*,一段,連用形,壊れる,コワレ,コワレ\n",
      "すぎ\t動詞,非自立,*,*,一段,連用形,すぎる,スギ,スギ\n",
      "やろ\t助動詞,*,*,*,特殊・ヤ,未然形,や,ヤロ,ヤロ\n",
      "EOS\n"
     ]
    }
   ],
   "source": []
  },
  {
   "cell_type": "code",
   "execution_count": 7,
   "metadata": {
    "collapsed": false
   },
   "outputs": [
    {
     "name": "stderr",
     "output_type": "stream",
     "text": [
      "MECAB_NBEST request type is not set\n"
     ]
    },
    {
     "ename": "MeCabError",
     "evalue": "MECAB_NBEST request type is not set",
     "output_type": "error",
     "traceback": [
      "\u001b[0;31m---------------------------------------------------------------------------\u001b[0m",
      "\u001b[0;31mRuntimeError\u001b[0m                              Traceback (most recent call last)",
      "\u001b[0;32m/Users/Koki/.pyenv/versions/anaconda3-4.3.1/envs/py35/lib/python3.5/site-packages/natto/mecab.py\u001b[0m in \u001b[0;36m__parse_tonodes\u001b[0;34m(self, text, **kwargs)\u001b[0m\n\u001b[1;32m    399\u001b[0m                                     self.tagger, nptr)\n\u001b[0;32m--> 400\u001b[0;31m                                 \u001b[0mrawf\u001b[0m \u001b[0;34m=\u001b[0m \u001b[0mself\u001b[0m\u001b[0;34m.\u001b[0m\u001b[0m__ffi\u001b[0m\u001b[0;34m.\u001b[0m\u001b[0mstring\u001b[0m\u001b[0;34m(\u001b[0m\u001b[0msp\u001b[0m\u001b[0;34m)\u001b[0m\u001b[0;34m\u001b[0m\u001b[0m\n\u001b[0m\u001b[1;32m    401\u001b[0m                             \u001b[0;32melse\u001b[0m\u001b[0;34m:\u001b[0m\u001b[0;34m\u001b[0m\u001b[0m\n",
      "\u001b[0;32m/Users/Koki/.pyenv/versions/anaconda3-4.3.1/envs/py35/lib/python3.5/site-packages/cffi/api.py\u001b[0m in \u001b[0;36mstring\u001b[0;34m(self, cdata, maxlen)\u001b[0m\n\u001b[1;32m    300\u001b[0m         \"\"\"\n\u001b[0;32m--> 301\u001b[0;31m         \u001b[0;32mreturn\u001b[0m \u001b[0mself\u001b[0m\u001b[0;34m.\u001b[0m\u001b[0m_backend\u001b[0m\u001b[0;34m.\u001b[0m\u001b[0mstring\u001b[0m\u001b[0;34m(\u001b[0m\u001b[0mcdata\u001b[0m\u001b[0;34m,\u001b[0m \u001b[0mmaxlen\u001b[0m\u001b[0;34m)\u001b[0m\u001b[0;34m\u001b[0m\u001b[0m\n\u001b[0m\u001b[1;32m    302\u001b[0m \u001b[0;34m\u001b[0m\u001b[0m\n",
      "\u001b[0;31mRuntimeError\u001b[0m: cannot use string() on <cdata 'char *' NULL>",
      "\nDuring handling of the above exception, another exception occurred:\n",
      "\u001b[0;31mMeCabError\u001b[0m                                Traceback (most recent call last)",
      "\u001b[0;32m<ipython-input-7-6914795bdac1>\u001b[0m in \u001b[0;36m<module>\u001b[0;34m()\u001b[0m\n\u001b[1;32m      3\u001b[0m \u001b[0;31m#MeCabNodeに分解\u001b[0m\u001b[0;34m\u001b[0m\u001b[0;34m\u001b[0m\u001b[0m\n\u001b[1;32m      4\u001b[0m \u001b[0;32mwith\u001b[0m \u001b[0mMeCab\u001b[0m\u001b[0;34m(\u001b[0m\u001b[0;34m'-F%m,%f[0],%h,%f[8]'\u001b[0m\u001b[0;34m)\u001b[0m \u001b[0;32mas\u001b[0m \u001b[0mnm\u001b[0m\u001b[0;34m:\u001b[0m\u001b[0;34m\u001b[0m\u001b[0m\n\u001b[0;32m----> 5\u001b[0;31m     \u001b[0;32mfor\u001b[0m \u001b[0mn\u001b[0m \u001b[0;32min\u001b[0m \u001b[0mnm\u001b[0m\u001b[0;34m.\u001b[0m\u001b[0mparse\u001b[0m\u001b[0;34m(\u001b[0m\u001b[0mtext\u001b[0m\u001b[0;34m,\u001b[0m \u001b[0mas_nodes\u001b[0m\u001b[0;34m=\u001b[0m\u001b[0;32mTrue\u001b[0m\u001b[0;34m)\u001b[0m\u001b[0;34m:\u001b[0m\u001b[0;34m\u001b[0m\u001b[0m\n\u001b[0m\u001b[1;32m      6\u001b[0m         \u001b[0;31m#print(n.feature)\u001b[0m\u001b[0;34m\u001b[0m\u001b[0;34m\u001b[0m\u001b[0m\n\u001b[1;32m      7\u001b[0m         \u001b[0mtxt\u001b[0m\u001b[0;34m=\u001b[0m\u001b[0mstr\u001b[0m\u001b[0;34m(\u001b[0m\u001b[0mn\u001b[0m\u001b[0;34m.\u001b[0m\u001b[0mfeature\u001b[0m\u001b[0;34m)\u001b[0m\u001b[0;34m\u001b[0m\u001b[0m\n",
      "\u001b[0;32m/Users/Koki/.pyenv/versions/anaconda3-4.3.1/envs/py35/lib/python3.5/site-packages/natto/mecab.py\u001b[0m in \u001b[0;36m__parse_tonodes\u001b[0;34m(self, text, **kwargs)\u001b[0m\n\u001b[1;32m    411\u001b[0m             \u001b[0merr\u001b[0m \u001b[0;34m=\u001b[0m \u001b[0mself\u001b[0m\u001b[0;34m.\u001b[0m\u001b[0m__mecab\u001b[0m\u001b[0;34m.\u001b[0m\u001b[0mmecab_lattice_strerror\u001b[0m\u001b[0;34m(\u001b[0m\u001b[0mself\u001b[0m\u001b[0;34m.\u001b[0m\u001b[0mlattice\u001b[0m\u001b[0;34m)\u001b[0m\u001b[0;34m\u001b[0m\u001b[0m\n\u001b[1;32m    412\u001b[0m             \u001b[0mlogger\u001b[0m\u001b[0;34m.\u001b[0m\u001b[0merror\u001b[0m\u001b[0;34m(\u001b[0m\u001b[0mself\u001b[0m\u001b[0;34m.\u001b[0m\u001b[0m__bytes2str\u001b[0m\u001b[0;34m(\u001b[0m\u001b[0mself\u001b[0m\u001b[0;34m.\u001b[0m\u001b[0m__ffi\u001b[0m\u001b[0;34m.\u001b[0m\u001b[0mstring\u001b[0m\u001b[0;34m(\u001b[0m\u001b[0merr\u001b[0m\u001b[0;34m)\u001b[0m\u001b[0;34m)\u001b[0m\u001b[0;34m)\u001b[0m\u001b[0;34m\u001b[0m\u001b[0m\n\u001b[0;32m--> 413\u001b[0;31m             \u001b[0;32mraise\u001b[0m \u001b[0mMeCabError\u001b[0m\u001b[0;34m(\u001b[0m\u001b[0mself\u001b[0m\u001b[0;34m.\u001b[0m\u001b[0m__bytes2str\u001b[0m\u001b[0;34m(\u001b[0m\u001b[0mself\u001b[0m\u001b[0;34m.\u001b[0m\u001b[0m__ffi\u001b[0m\u001b[0;34m.\u001b[0m\u001b[0mstring\u001b[0m\u001b[0;34m(\u001b[0m\u001b[0merr\u001b[0m\u001b[0;34m)\u001b[0m\u001b[0;34m)\u001b[0m\u001b[0;34m)\u001b[0m\u001b[0;34m\u001b[0m\u001b[0m\n\u001b[0m\u001b[1;32m    414\u001b[0m \u001b[0;34m\u001b[0m\u001b[0m\n\u001b[1;32m    415\u001b[0m     \u001b[0;32mdef\u001b[0m \u001b[0m__repr__\u001b[0m\u001b[0;34m(\u001b[0m\u001b[0mself\u001b[0m\u001b[0;34m)\u001b[0m\u001b[0;34m:\u001b[0m\u001b[0;34m\u001b[0m\u001b[0m\n",
      "\u001b[0;31mMeCabError\u001b[0m: MECAB_NBEST request type is not set"
     ]
    }
   ],
   "source": [
    "tweet = \"アルバイト・パート本社は明治４２年創業、大阪中央郵便局内に職員食堂として開業。以後順調に業績を延ばし、全国２０ケ所に営業所を開設している。\"\n",
    "word_list=[]\n",
    "#MeCabNodeに分解\n",
    "with MeCab('-F%m,%f[0],%h,%f[8]') as nm:\n",
    "    for n in nm.parse(text, as_nodes=True):\n",
    "        #print(n.feature)\n",
    "        txt=str(n.feature)\n",
    "        word_info=txt.split(',')\n",
    "        word_list.append(word_info)\n",
    "del(word_list[len(word_list)])\n",
    "print(word_list)"
   ]
  },
  {
   "cell_type": "code",
   "execution_count": 84,
   "metadata": {
    "collapsed": false
   },
   "outputs": [
    {
     "name": "stdout",
     "output_type": "stream",
     "text": [
      "['アルバイト', 'パート', '本社', '明治', '４', '２', '年', '創業', '大阪', '中央', '郵便', '局内', '職員', '食堂', '開業', '以後', '順調', '業績', '延ばし', '全国', '２', '０', 'ケ所', '営業', '所', '開設', 'し', 'いる']\n"
     ]
    }
   ],
   "source": [
    "########以下の品詞のみ抜き出す#########\n",
    "judge_list=[]\n",
    "for word in word_list:\n",
    "    if ((word[1] == \"名詞\" ) or (word[1] == \"形容詞\") or (word[1] == \"動詞\") or (word[1] == \"副詞\")) :\n",
    "         judge_list.append(word[0])\n",
    "print(judge_list)\n",
    "#################################"
   ]
  },
  {
   "cell_type": "code",
   "execution_count": 18,
   "metadata": {
    "collapsed": false
   },
   "outputs": [],
   "source": [
    "############辞書の読み込み#############\n",
    "f = open('pn_ja.txt')\n",
    "data1 = f.read()  # ファイル終端まで全て読んだデータを返す\n",
    "data1=data1.replace(':',',')\n",
    "f.close()\n",
    "lines=data1.split('\\n')\n",
    "#平仮名も残しておいた方がいい．必ずしも感じとは限らない\n",
    "lines[0:5]\n",
    "###################################"
   ]
  },
  {
   "cell_type": "code",
   "execution_count": 98,
   "metadata": {
    "collapsed": true
   },
   "outputs": [],
   "source": [
    "##########点数辞書#############\n",
    "word_to_score=[]\n",
    "for line in lines:\n",
    "    word=line.split(',')\n",
    "    word_to_score.append(word)    \n",
    "del word_to_score[55125]\n",
    "\n",
    "word_to_score[10:20]\n",
    "#############################"
   ]
  },
  {
   "cell_type": "code",
   "execution_count": 100,
   "metadata": {
    "collapsed": false
   },
   "outputs": [],
   "source": [
    "########要素がしっかりあるか確認#####\n",
    "for w_s in word_to_score:\n",
    "    if(len(w_s)!=4):\n",
    "        print(len(w_s))\n",
    "        print(word_to_score.index(w_s))\n",
    "##############################"
   ]
  },
  {
   "cell_type": "code",
   "execution_count": 106,
   "metadata": {
    "collapsed": false
   },
   "outputs": [
    {
     "name": "stdout",
     "output_type": "stream",
     "text": [
      "アルバイト\n",
      "単語:-0.280177,合計:-0.280177\n",
      "パート\n",
      "単語:-0.310086,合計:-0.590263\n",
      "本社\n",
      "単語:-0.392477,合計:-0.98274\n",
      "明治\n",
      "４\n",
      "２\n",
      "年\n",
      "単語:-0.35861,合計:-1.3413499999999998\n",
      "創業\n",
      "単語:-0.203126,合計:-1.5444759999999997\n",
      "大阪\n",
      "中央\n",
      "単語:-0.890442,合計:-2.4349179999999997\n",
      "郵便\n",
      "単語:-0.742751,合計:-3.177669\n",
      "局内\n",
      "職員\n",
      "単語:-0.496333,合計:-3.6740019999999998\n",
      "食堂\n",
      "単語:-0.235546,合計:-3.9095479999999996\n",
      "開業\n",
      "単語:-0.352384,合計:-4.261932\n",
      "以後\n",
      "単語:-0.380014,合計:-4.641946\n",
      "順調\n",
      "単語:0.0326944,合計:-4.6092516\n",
      "業績\n",
      "単語:0.964198,合計:-3.6450536000000002\n",
      "延ばし\n",
      "全国\n",
      "単語:-0.409415,合計:-4.0544686\n",
      "２\n",
      "０\n",
      "ケ所\n",
      "営業\n",
      "単語:-0.639715,合計:-4.6941836\n",
      "所\n",
      "単語:-0.341147,合計:-5.0353306\n",
      "開設\n",
      "単語:-0.340023,合計:-5.3753536\n",
      "し\n",
      "単語:0.969186,合計:-4.406167600000001\n",
      "いる\n",
      "単語:-0.365478,合計:-4.771645600000001\n",
      "-0.17041591428571431\n"
     ]
    }
   ],
   "source": [
    "############点数計算############\n",
    "score=0\n",
    "#setにして単語検索でもいける\n",
    "for word in judge_list:\n",
    "    print(word)\n",
    "    for w_s in word_to_score:\n",
    "        if w_s[0]==word or w_s[1]==word :\n",
    "            score+=float(w_s[3])\n",
    "            print('単語:'+w_s[3]+',合計:'+str(score))\n",
    "            break\n",
    "print(score/len(judge_list))\n",
    "###############################"
   ]
  },
  {
   "cell_type": "code",
   "execution_count": null,
   "metadata": {
    "collapsed": true
   },
   "outputs": [],
   "source": []
  }
 ],
 "metadata": {
  "kernelspec": {
   "display_name": "py35",
   "language": "python",
   "name": "py35"
  },
  "language_info": {
   "codemirror_mode": {
    "name": "ipython",
    "version": 3
   },
   "file_extension": ".py",
   "mimetype": "text/x-python",
   "name": "python",
   "nbconvert_exporter": "python",
   "pygments_lexer": "ipython3",
   "version": "3.5.3"
  }
 },
 "nbformat": 4,
 "nbformat_minor": 2
}
