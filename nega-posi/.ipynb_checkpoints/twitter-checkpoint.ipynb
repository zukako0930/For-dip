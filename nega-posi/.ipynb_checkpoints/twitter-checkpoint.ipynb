{
 "cells": [
  {
   "cell_type": "code",
   "execution_count": 1,
   "metadata": {
    "collapsed": false,
    "scrolled": false
   },
   "outputs": [
    {
     "name": "stdout",
     "output_type": "stream",
     "text": [
      "['@utahkaA ちゃんゆーさん、乗っ取られたんですけど助けてください。。。笑', '@hatagyodayo 最高👍\\n楽しみにしてるわ！', '@hatagyodayo 温泉巡り行こ👍', '@hatagyodayo 遊ぼうよ', '@123410114 温泉とか笑', '@123410114 いいね👍\\nどっか行きたいね！', '@123410114 ほぼ、終わったみたいなもん！', 'コナンが見たすぎる。', '車で流す曲に半沢直樹のBGM入ってる人初めて見たわ。笑\\n\\n上司を言いくるめないといけない出勤日の朝に聞くらしい。笑\\n\\n「まっ、基本的負けて帰りはこの曲になる（半沢直樹のお父さんのシーン）」は笑いが止まらなかった。笑', '@12satouT \\n\\nこれこれ👍\\n\\nhttps://t.co/lS3uj86TAK', '写真が絵っぽくなるアプリにハマってしまった。 https://t.co/rbde8NlKrW', 'どうやら今世紀最大のダッシュが必要みたいだ。\\n\\n550メートルを1分か。\\n理系だけど一応計算はやめておいた方がよさそうだな。', '姉です！！\\n\\n頑張っているようなので、ご協力してくれるとありがたいです(^^) https://t.co/f5vSpU5QPy', '前の教習車さっきからガードレールと指一本分の距離保ちながら走行してるんですけど何者？\\n天才なの？？\\n\\n仮にそうだとしても、まだ仮免なんだからちゃんと運転して。\\n\\nこっちはさっきから心拍数大変なことになってるんだわ。', '@kaaaaae1012 笑ったわ\\nすぐ保存ですね笑\\nてか背同じぐらいだったんだね笑\\n今とは大違い👍', '@Butty252539 オナカマすぎる笑\\n小さい頃の写真見てると顔違いすぎてめちゃめちゃ面白い笑', '@wataryooou アホヅラは今と変わってないから、\\n「あいつアホっぽい」って言われてるんだと思われる。笑', '昔は塩顔だったのにな。 https://t.co/BvQbmsi5kL', '今更だけど、この前の従姉妹の結婚式めちゃくちゃ感動したな〜\\n\\n特に2枚目写真は、しおりを見る、ゆうじさんの後ろ姿に何か強く感じるものがあって、最高にかっこよかった！\\n\\n何事にも全力で、思いやりがあって、何よりユーモア溢れるゆうじさ… https://t.co/gtpatnrTO7', 'おいおい嘘だろ。\\nR1しっかりしてくれえぃ。', '@wataryooou それなら納得。🤔', 'スタバのトイレの個室にて\\n「お前いい加減にしろよ？お前がどれだけの人に迷惑かけてるのかわかってるのか？ふざけんじゃねーぞ？」って大声で電話してたけど、そのまま言い返したい。', '僕らの学費を、、、\\nっていつも思うけど\\nちょっとカワイイから許す。 https://t.co/IZyT6sOYX7', '@jdhadpjtpjha さんきゅ！！\\n漢字何１つ合ってないけどな笑', '@miume8 おー！！ありがとね(^^)', '@xo_shun46 今度お笑いネタ見してね😏👍\\nまた連絡するわ！', '@s4hmxxx1 サンキュー！！👍', '@kennnny15 それが1番👍', '@chii31223 またそのうちセブンで語ろ笑👍', '@chii31223 あら、ありがとうございます笑笑', '@china815s \\n\\nありがとぅー😏\\n遊ぼう！！って言ってから半年くらい経ってるやーつ笑笑', '@as_13716 とみー！ありがと〜😊', '@1risan21 ポテンシャルは兼ね備えてるのかも笑笑', '@asahiyuji ありがとっっ！👍', '@sjshbeuk61 ありがと〜😊', '@ABlueee5 ありがと〜😌ふって何笑', '@mmy_8 真ん中の子左手どした笑笑\\nありがと👍', '@xo_shun46 しゅんすけ元気かよ笑\\n今度飲み行こ👍', '@kaaaaae1012 ありがと！！\\n今度絶対赤ちゃん見に行くわ👍', '@728Flap 学校来ないなんて雪でも降るのかなって思ったわ。とりあえず今日の授業ばっしちノート取っといたわ！！（リーダーが）', '@7716Mai いやいや絶対覚えてはないでしょ笑笑\\nでもありがとうございます😊👍', '@mocomoca82 またおじいちゃんになって吉田夫婦の家荒らしに行くわ！😏', '@1risan21 あだ名のレパートリーの多さな笑\\nありがとう😌', '@arohart25 それは嬉しいです笑笑\\nありがとうございます👍', '@01kk06 さんきゅー！！(^^)', '@hatagyodayo ありがとー😊👍', '昨日は20歳最後の日に優勝できて良き思い出となりました。👍\\nそしてボロボロになった体を銭湯で癒し21歳迎えます。 https://t.co/Wd097r4JHk', '@kaaaaae1012 おめでと！！(^^)', '@TOTTY19971103 おけ！', '@TOTTY19971103 まだ困ってるの？', 'コタツが課題の天敵になる季節がやって来たか、、、😴', '@tuchunbz 頼むから悪魔の決勝戦を思い出せないでくれ。笑\\nあの時の隆道の顔は一生忘れない。笑', '@BoxingYuya 来年優勝する予定笑', '@ka_cn04 さんきゅー👍\\n隆道だよ！', '昨日は6試合と延長戦の激闘を繰り広げた結果3位という中々の成績でした。\\nそして、本日は体の悲鳴との激闘を繰り広げた結果ベットからまったく起き上がれないという散々な成績でした。 https://t.co/gVM3BCr3vh', 'HUBで働いてたらアラジンのキャストさんが来てめっちゃウィンクされたんだけど。\\n男のオレが重傷だったから、女の子がやられたら確実に即死やね。笑', '2人のカメラマンとして謎に参加したけど、めちゃんこ楽しかったわ笑 https://t.co/YwGrhgnZRE', '@china815s 元気さ😎\\n良い誕生日を過ごしなね！！もう終わったけど笑笑', '@china815s おめでとっ！！', '@1risan21 ありがとっ(^-^)/', '一昨日でやっと24日間連続で学校に行くという地獄を乗り切りきりました。\\nとりあえず言いたいことは理系に産まれてごめんなオレ、、。\\nってことで今日はめちゃ楽しんだ！ https://t.co/sEQfjs4ObQ', '@mktk611 iPad登録の被害者けっこういそうじゃね笑', '久々に先生したわ。\\nそして、やっぱ先生っていいな笑', '@mktk611 よくわかったね笑笑', 'オレのツイッターでテロが起きてます笑\\n\\n勝手にギターで生きていくとかつぶやかれてます。\\n\\nうーーーんと、月給2円くらいかな？笑', '@mktk611 どうやって見に行ったの？？笑', '@china815s オレツイートまるパクリかよ笑\\nそして寝そうだったのに笑わせるな笑', '@china815s 笑った笑\\nいい夢じゃん笑\\nきっと叶う笑', '@china815s 実際さ将来不安系二十歳の人でしょ？笑笑', 'きっとこの頃は希望に満ち溢れてんだろうな。 https://t.co/n7xag8dPjp', 'あーーーホントによかった笑\\nこれで未来が晴れた。', '@hatagyodayo 笑笑\\nゆうちゃん今度遊ぼうぜ笑', '@china815s はっ、始終だと。笑笑\\nしゃーないライバルを認めよう。\\nまっ、そのうち相手にもならなくしてみせるけどね(^^)/', '@china815s えっ、相手になるん？笑', '@ryoooohee そしたら確実にお前疑うね笑', 'なんだこの清々しい目覚めは、、、\\nなんだこの透き通る青空は、、、\\nそう。運動日和だ！！', '昨日からの取り組む時間13時間経過。\\n発表まで残り9時間。\\nえっ？勝負はここからっしょ、、泣泣亡', 'RT @728Flap: 前の写真から投票お願いします\\n拡散も是非ともお願いします', 'RT @728Flap: 第2回首下オシャレ選手権を行います\\n\\nこの中からオシャレだと思う人に投票お願いします\\nオシャレな人がだれ1人としていないと思いますが工業大学なので多めに見てやってください\\n\\n投票はリプからお願いします\\n\\n拡散お願いします https://t.co/vV…', '@123410114 知らなかった笑笑', 'テスト期間のこの一週間オレも釈迦になろっと。\\nでもこんな釈迦になったら終わりだな。笑\\nちーん。 https://t.co/lMpFQyW5pp', 'このままではどれにも投票入らないじゃん笑笑 https://t.co/MmVYWeI8Jx', '@g1domen とりあえず春休みにまた連絡するわ！笑', '@ambiti_UpToMe オレが泉水見つけた時にはすでに吐いてたからね笑\\nこの楽しそうな顔と辛そうな顔のギャップに笑ったわ笑', '@g1domen ありがと！！笑\\n今度遊ぼうぜ笑\\n共通の友達めっちゃ多いしね笑', '成人式からテスト期間に切り替えられなすぎてやばいな、、、笑\\n冷静に楽しかったな～\\n特に小学校の時の四人組で写真とれて嬉しかったのがオレの顔にでまくってるな笑 https://t.co/oyDtAxBsPV', '@_minitami おめでとー笑\\n今度遊ぼうぜ笑', '@yzwakr716 4日でしょ', '@pepepepepe09 はい。なめすぎ笑\\n次会ったらオレのペットにしてやるからな笑', '@Natsuuu727 言っとくね(^^)笑', '@parkyuchun58 いや、今更かい笑', '@kennnny15 言っとくは笑(^^)', '@pepepepepe09 来たな、うるさい後輩め。笑', '@g1domen 姉ですねｗｗ', '久しぶりに帰ってきて、久しぶりに全員集合だわ笑 https://t.co/tXVlJgC2Ah', 'つっっっら。', '他の高校はほとんど成人式前の同窓会あるんかい。\\n成北どした。おーーーい！笑', '@Yukari01051219 ありがとでーーーす笑笑', '@Yukari01051219 いーえ笑\\nいや、終わったわ笑笑', '@Yukari01051219 @miyuu8280 おめでとー！']\n"
     ]
    }
   ],
   "source": [
    "from requests_oauthlib import OAuth1Session\n",
    "from collections import defaultdict\n",
    "import json\n",
    "\n",
    "CK = '3rJOl1ODzm9yZy63FACdg'                             # Consumer Key\n",
    "CS = '5jPoQ5kQvMJFDYRNE8bQ4rHuds4xJqhvgNJM4awaE8'         # Consumer Secret\n",
    "AT = '2956677620-D7KuhxlChnM27XgQ9WoFJR4haZuTPgTnBVrKe1K' # Access Token\n",
    "AS = '2qTkh1PC1OIL6rCPyNKUnmHV8Rf70XCODczCTFdp5n1uq'         # Accesss Token Secert\n",
    "\n",
    "#辞書\n",
    "tweet_dic = defaultdict(lambda :[0, 0, 0, '', '',''])\n",
    "# print(tweet_dic)\n",
    "a = []\n",
    "tweet_list=[]\n",
    "# タイムライン取得用のURL\n",
    "url = \"https://api.twitter.com/1.1/statuses/user_timeline.json?count=100\"\n",
    "#url = \"https://api.twitter.com/1.1/favorites/list.json?count=1000\"\n",
    "# url = \"https://api.twitter.com/1.1/account/settings.json\"\n",
    "\n",
    "# とくにパラメータは無い\n",
    "params = { \"user_id\" : 2956677620}\n",
    "# params = {}\n",
    "\n",
    "# OAuth で GET\n",
    "twitter = OAuth1Session(CK, CS, AT, AS)\n",
    "req = twitter.get(url, params = params)\n",
    "\n",
    "n = 0\n",
    "# print(users[\"id_str\"])\n",
    "if req.status_code == 200:\n",
    "    # レスポンスはJSON形式なので parse する\n",
    "    timeline = json.loads(req.text)\n",
    "#     print(timeline)\n",
    "    # 各ツイートの本文を表示\n",
    "    for tweet in timeline:\n",
    "        tweet_dic[tweet[\"id\"]][0] = tweet[\"created_at\"]\n",
    "        tweet_dic[tweet[\"id\"]][1] = tweet[\"user\"][\"id_str\"]\n",
    "        tweet_dic[tweet[\"id\"]][2] = tweet[\"favorite_count\"]\n",
    "        tweet_dic[tweet[\"id\"]][3] = tweet[\"text\"]\n",
    "        tweet_dic[tweet[\"id\"]][4] = tweet[\"place\"]\n",
    "        tweet_dic[tweet[\"id\"]][5] = tweet[\"user\"][\"screen_name\"]\n",
    "        #print(tweet[\"text\"])\n",
    "        tweet_list.append(tweet[\"text\"])\n",
    "        \n",
    "        if tweet_dic[tweet[\"id\"]][2] >= 1000:\n",
    "            a.append(tweet[\"id\"])\n",
    "else:\n",
    "    # エラーの場合\n",
    "    print (\"Error: %d\" % req.status_code)\n",
    "len(a)\n",
    "print(tweet_list)"
   ]
  },
  {
   "cell_type": "code",
   "execution_count": 2,
   "metadata": {
    "collapsed": false
   },
   "outputs": [],
   "source": [
    "import nega_posi"
   ]
  },
  {
   "cell_type": "code",
   "execution_count": 3,
   "metadata": {
    "collapsed": false
   },
   "outputs": [],
   "source": [
    "from natto import MeCab"
   ]
  },
  {
   "cell_type": "code",
   "execution_count": 4,
   "metadata": {
    "collapsed": false
   },
   "outputs": [
    {
     "name": "stdout",
     "output_type": "stream",
     "text": [
      "ちゃん\n",
      "単語:-0.453039,合計:-0.453039\n",
      "ゆ\n",
      "単語:-0.652066,合計:-1.105105\n",
      "さん\n",
      "単語:0.984036,合計:-0.12106899999999998\n",
      "乗っ取る\n",
      "単語:-0.483789,合計:-0.604858\n",
      "れる\n",
      "た\n",
      "単語:-0.250905,合計:-0.855763\n",
      "ん\n",
      "です\n",
      "助ける\n",
      "単語:0.998356,合計:0.14259299999999997\n",
      "くださる\n",
      "単語:-0.31765,合計:-0.17505700000000002\n",
      "笑\n",
      "単語:0.96353,合計:0.788473\n"
     ]
    },
    {
     "ename": "NameError",
     "evalue": "name 'word_count' is not defined",
     "output_type": "error",
     "traceback": [
      "\u001b[0;31m---------------------------------------------------------------------------\u001b[0m",
      "\u001b[0;31mNameError\u001b[0m                                 Traceback (most recent call last)",
      "\u001b[0;32m<ipython-input-4-1e4868c4e41c>\u001b[0m in \u001b[0;36m<module>\u001b[0;34m()\u001b[0m\n\u001b[1;32m      6\u001b[0m     \u001b[0mscore_dict\u001b[0m\u001b[0;34m=\u001b[0m\u001b[0mtw1\u001b[0m\u001b[0;34m.\u001b[0m\u001b[0mmake_dict\u001b[0m\u001b[0;34m(\u001b[0m\u001b[0;34m)\u001b[0m\u001b[0;34m\u001b[0m\u001b[0m\n\u001b[1;32m      7\u001b[0m     \u001b[0mtw1\u001b[0m\u001b[0;34m.\u001b[0m\u001b[0mmake_judge_list\u001b[0m\u001b[0;34m(\u001b[0m\u001b[0;34m)\u001b[0m\u001b[0;34m\u001b[0m\u001b[0m\n\u001b[0;32m----> 8\u001b[0;31m     \u001b[0mscore\u001b[0m\u001b[0;34m=\u001b[0m\u001b[0mtw1\u001b[0m\u001b[0;34m.\u001b[0m\u001b[0mcalc_score\u001b[0m\u001b[0;34m(\u001b[0m\u001b[0mscore_dict\u001b[0m\u001b[0;34m)\u001b[0m\u001b[0;34m\u001b[0m\u001b[0m\n\u001b[0m\u001b[1;32m      9\u001b[0m     \u001b[0mprint\u001b[0m\u001b[0;34m(\u001b[0m\u001b[0mscore\u001b[0m\u001b[0;34m)\u001b[0m\u001b[0;34m\u001b[0m\u001b[0m\n\u001b[1;32m     10\u001b[0m     \u001b[0msum_score\u001b[0m\u001b[0;34m+=\u001b[0m\u001b[0mscore\u001b[0m\u001b[0;34m\u001b[0m\u001b[0m\n",
      "\u001b[0;32m/Users/Koki/Documents/python scripts/For-dip4/nega-posi/nega_posi.py\u001b[0m in \u001b[0;36mcalc_score\u001b[0;34m(self, score_dict)\u001b[0m\n\u001b[1;32m     71\u001b[0m                     \u001b[0mwordcount\u001b[0m\u001b[0;34m+=\u001b[0m\u001b[0;36m1\u001b[0m\u001b[0;34m\u001b[0m\u001b[0m\n\u001b[1;32m     72\u001b[0m                     \u001b[0;32mbreak\u001b[0m\u001b[0;34m\u001b[0m\u001b[0m\n\u001b[0;32m---> 73\u001b[0;31m         \u001b[0;32mif\u001b[0m\u001b[0;34m(\u001b[0m\u001b[0mword_count\u001b[0m\u001b[0;34m!=\u001b[0m\u001b[0;36m0\u001b[0m\u001b[0;34m)\u001b[0m\u001b[0;34m:\u001b[0m\u001b[0;34m\u001b[0m\u001b[0m\n\u001b[0m\u001b[1;32m     74\u001b[0m             \u001b[0maverage\u001b[0m\u001b[0;34m=\u001b[0m\u001b[0mscore\u001b[0m\u001b[0;34m/\u001b[0m\u001b[0mwordcount\u001b[0m\u001b[0;34m\u001b[0m\u001b[0m\n\u001b[1;32m     75\u001b[0m             \u001b[0mprint\u001b[0m\u001b[0;34m(\u001b[0m\u001b[0maverage\u001b[0m\u001b[0;34m)\u001b[0m\u001b[0;34m\u001b[0m\u001b[0m\n",
      "\u001b[0;31mNameError\u001b[0m: name 'word_count' is not defined"
     ]
    }
   ],
   "source": [
    "score=0\n",
    "sum_score=0\n",
    "for tweet in tweet_list:\n",
    "    tw1=nega_posi.JudgeClass(tweet)\n",
    "    tw1.make_wlist()\n",
    "    score_dict=tw1.make_dict()\n",
    "    tw1.make_judge_list()\n",
    "    score=tw1.calc_score(score_dict)\n",
    "    print(score)\n",
    "    sum_score+=score\n",
    "print(sum_score/len(tweet_list))"
   ]
  },
  {
   "cell_type": "code",
   "execution_count": null,
   "metadata": {
    "collapsed": true
   },
   "outputs": [],
   "source": []
  }
 ],
 "metadata": {
  "kernelspec": {
   "display_name": "py35",
   "language": "python",
   "name": "py35"
  },
  "language_info": {
   "codemirror_mode": {
    "name": "ipython",
    "version": 3
   },
   "file_extension": ".py",
   "mimetype": "text/x-python",
   "name": "python",
   "nbconvert_exporter": "python",
   "pygments_lexer": "ipython3",
   "version": "3.5.3"
  }
 },
 "nbformat": 4,
 "nbformat_minor": 2
}
