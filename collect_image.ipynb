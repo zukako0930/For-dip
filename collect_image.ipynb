{
 "cells": [
  {
   "cell_type": "markdown",
   "metadata": {},
   "source": [
    "## Bing画像を集めるプログラム kernel:py27\n",
    "#### 目的 : 研究やプロダクトの作成に必要な画像を画像検索を利用してスクレイピングすることでデータセットの構築を容易にする．\n",
    "`<div class =\"img cont_hoff\">`のsrc画像タグのURLから画像を保存する.\n",
    "`data_bm`という変数で画像の番号が管理されているのでそこから画像の個数などを割り出せる.\n",
    "\n",
    "### ①画像の階層\n",
    "この通りになっていないっぽい??\n",
    "\n",
    "* `<li data-idx = ''>`\n",
    "    * `<div class=\"imgpt\">`\n",
    "        * `<div class=\"img cont_hoff\">`\n",
    "            * src=\"画像URL\"\n",
    "            \n",
    "### ②今後\n",
    "芸能人の画像の顔部分だけをopencvによって切り出して保存する．  \n",
    "確か`face_count.ipynb`に実装したはず．"
   ]
  },
  {
   "cell_type": "code",
   "execution_count": 37,
   "metadata": {
    "collapsed": false
   },
   "outputs": [],
   "source": [
    "#coding:utf-8 \n",
    "from bs4 import BeautifulSoup #bs4モジュールからBeautifulSoupクラスをインポートする\n",
    "import requests\n",
    "import csv\n",
    "import scrapelib\n",
    "from urllib import urlopen\n",
    "pause = 5"
   ]
  },
  {
   "cell_type": "markdown",
   "metadata": {},
   "source": [
    "#### Scraparの宣言"
   ]
  },
  {
   "cell_type": "code",
   "execution_count": 9,
   "metadata": {
    "collapsed": true
   },
   "outputs": [],
   "source": [
    "s = scrapelib.Scraper(requests_per_minute=80) #１分間に何回リクエストを投げるか"
   ]
  },
  {
   "cell_type": "markdown",
   "metadata": {},
   "source": [
    "#### ここの人名を変えればBing画像がLazy Load以外のものだけ集まる．\n",
    "よって書くタイプの芸能人の名前をリストに格納して，順番にURLに入れていけば自動化できるけど，手動でやってもいい．"
   ]
  },
  {
   "cell_type": "code",
   "execution_count": 51,
   "metadata": {
    "collapsed": true
   },
   "outputs": [],
   "source": [
    "t=s.get('https://www.bing.com/images/search?q=小西真奈美')"
   ]
  },
  {
   "cell_type": "markdown",
   "metadata": {},
   "source": [
    "#### getしてきた物のテキスト情報をsoupに展開する."
   ]
  },
  {
   "cell_type": "code",
   "execution_count": 52,
   "metadata": {
    "collapsed": false
   },
   "outputs": [],
   "source": [
    "soup=BeautifulSoup(t.text,\"lxml\")"
   ]
  },
  {
   "cell_type": "code",
   "execution_count": 55,
   "metadata": {
    "collapsed": false,
    "scrolled": true
   },
   "outputs": [],
   "source": [
    "#print(soup)"
   ]
  },
  {
   "cell_type": "markdown",
   "metadata": {},
   "source": [
    "#### 落としてきたsoupの中の①の部分だけを取り出してURL_listにappendする"
   ]
  },
  {
   "cell_type": "code",
   "execution_count": 54,
   "metadata": {
    "collapsed": false,
    "scrolled": true
   },
   "outputs": [
    {
     "name": "stdout",
     "output_type": "stream",
     "text": [
      "http://files.hangame.co.jp/blog/2010/56/2593d2bb/02/19/27890168/2593d2bb_1266588609746.jpg\n",
      "http://livedoor.blogimg.jp/caladbolg2/imgs/d/9/d96a0397.jpg\n",
      "http://trend71.blog.so-net.ne.jp/_images/blog/_d8f/trend71/konisimanami_a01.jpg\n",
      "http://blog-imgs-38.fc2.com/b/e/e/beesting70/kon1ddhdygf.jpg\n",
      "http://cinematoday.jp/res/A0/00/12/A0001202-00.jpg\n",
      "http://hirominmin.c.blog.so-net.ne.jp/_images/blog/_84f/hirominmin/img_444265_45839803_0-59224.jpg?c=a0\n",
      "http://tenka2.sakura.ne.jp/3025001/img/3025001023.jpg\n",
      "http://blog-imgs-18.fc2.com/d/e/a/deachao/20080223161602.jpg\n",
      "http://blog-imgs-51.fc2.com/o/o/i/ooiotakara/20130203_1449_010.jpg\n",
      "http://www.crank-in.net/img/db/1002396_300.jpg\n",
      "http://p4.p.pixnet.net/albums/userpics/4/1/89641/1176107029.jpg\n",
      "http://www.officiallyjd.com/wp-content/uploads/2012/06/20120629_fukuyamafukiishi_12.jpg\n",
      "http://farm2.staticflickr.com/1224/1317949211_43fb887ac0.jpg\n",
      "http://djyimg.com/i6/1103090409501487_1.jpg\n",
      "http://25.media.tumblr.com/tumblr_m3dxnqmyOU1qzp920o1_1280.jpg\n",
      "http://www.ab.cyberhome.ne.jp/~jun-take/manamin2-2.jpg\n",
      "http://img31.mtime.cn/pi/2015/01/07/104532.76021519_1000X1000.jpg\n",
      "http://www.cinemacafe.net/imgs/ogp_f/33093.jpg\n",
      "http://i.ytimg.com/vi/bY4T9Eqbx0A/maxresdefault.jpg\n",
      "http://kikujiro-trend.com/wp-content/uploads/2014/08/IMG_9838.jpg\n",
      "http://www.officiallyjd.com/wp-content/uploads/2012/08/20120809_hukuyama_25.jpg\n",
      "http://f.hatena.ne.jp/images/fotolife/i/idol100/20070919/20070919122617.jpg\n",
      "http://image.eiga.k-img.com/images/person/30981/300x.jpg?1312517466\n",
      "http://image.news.livedoor.com/newsimage/B/1/046db1217df5003b15521345e29c3522.jpg\n",
      "http://blogs.c.yimg.jp/res/blog-d2-bb/starmy_x/folder/505857/57/26298757/img_0?1196680229\n",
      "http://www.bellemaison.jp/special/tvcm/present/images/wp_1024x768_1.jpg\n",
      "http://blogs.c.yimg.jp/res/blog-94-03/bump_of_chicken_mikko/folder/1369425/00/27835700/img_2?1168581718\n",
      "http://kai-you.net/press/img/eCjS6Td4VAAA3mS1-1.jpg\n"
     ]
    }
   ],
   "source": [
    "url_list=[]\n",
    "thumb=soup.find(id='main').find_all(class_='thumb')\n",
    "for thu in thumb:\n",
    "    print thu.get('href')\n",
    "    url_list.append(thu.get('href'))"
   ]
  },
  {
   "cell_type": "code",
   "execution_count": 56,
   "metadata": {
    "collapsed": false
   },
   "outputs": [
    {
     "data": {
      "text/plain": [
       "['http://files.hangame.co.jp/blog/2010/56/2593d2bb/02/19/27890168/2593d2bb_1266588609746.jpg',\n",
       " 'http://livedoor.blogimg.jp/caladbolg2/imgs/d/9/d96a0397.jpg',\n",
       " 'http://trend71.blog.so-net.ne.jp/_images/blog/_d8f/trend71/konisimanami_a01.jpg',\n",
       " 'http://blog-imgs-38.fc2.com/b/e/e/beesting70/kon1ddhdygf.jpg',\n",
       " 'http://cinematoday.jp/res/A0/00/12/A0001202-00.jpg',\n",
       " 'http://hirominmin.c.blog.so-net.ne.jp/_images/blog/_84f/hirominmin/img_444265_45839803_0-59224.jpg?c=a0',\n",
       " 'http://tenka2.sakura.ne.jp/3025001/img/3025001023.jpg',\n",
       " 'http://blog-imgs-18.fc2.com/d/e/a/deachao/20080223161602.jpg',\n",
       " 'http://blog-imgs-51.fc2.com/o/o/i/ooiotakara/20130203_1449_010.jpg',\n",
       " 'http://www.crank-in.net/img/db/1002396_300.jpg',\n",
       " 'http://p4.p.pixnet.net/albums/userpics/4/1/89641/1176107029.jpg',\n",
       " 'http://www.officiallyjd.com/wp-content/uploads/2012/06/20120629_fukuyamafukiishi_12.jpg',\n",
       " 'http://farm2.staticflickr.com/1224/1317949211_43fb887ac0.jpg',\n",
       " 'http://djyimg.com/i6/1103090409501487_1.jpg',\n",
       " 'http://25.media.tumblr.com/tumblr_m3dxnqmyOU1qzp920o1_1280.jpg',\n",
       " 'http://www.ab.cyberhome.ne.jp/~jun-take/manamin2-2.jpg',\n",
       " 'http://img31.mtime.cn/pi/2015/01/07/104532.76021519_1000X1000.jpg',\n",
       " 'http://www.cinemacafe.net/imgs/ogp_f/33093.jpg',\n",
       " 'http://i.ytimg.com/vi/bY4T9Eqbx0A/maxresdefault.jpg',\n",
       " 'http://kikujiro-trend.com/wp-content/uploads/2014/08/IMG_9838.jpg',\n",
       " 'http://www.officiallyjd.com/wp-content/uploads/2012/08/20120809_hukuyama_25.jpg',\n",
       " 'http://f.hatena.ne.jp/images/fotolife/i/idol100/20070919/20070919122617.jpg',\n",
       " 'http://image.eiga.k-img.com/images/person/30981/300x.jpg?1312517466',\n",
       " 'http://image.news.livedoor.com/newsimage/B/1/046db1217df5003b15521345e29c3522.jpg',\n",
       " 'http://blogs.c.yimg.jp/res/blog-d2-bb/starmy_x/folder/505857/57/26298757/img_0?1196680229',\n",
       " 'http://www.bellemaison.jp/special/tvcm/present/images/wp_1024x768_1.jpg',\n",
       " 'http://blogs.c.yimg.jp/res/blog-94-03/bump_of_chicken_mikko/folder/1369425/00/27835700/img_2?1168581718',\n",
       " 'http://kai-you.net/press/img/eCjS6Td4VAAA3mS1-1.jpg']"
      ]
     },
     "execution_count": 56,
     "metadata": {},
     "output_type": "execute_result"
    }
   ],
   "source": [
    "url_list"
   ]
  },
  {
   "cell_type": "markdown",
   "metadata": {},
   "source": [
    "# 展望\n",
    "### 単純なスクレイピングではLazy Loadの画像を集められない\n",
    "よってseleniumに挑戦するべきでは．  \n",
    "※以下転載  \n",
    "https://qiita.com/u_kan/items/01c5ff01875a9f83e442"
   ]
  },
  {
   "cell_type": "code",
   "execution_count": 50,
   "metadata": {
    "collapsed": false
   },
   "outputs": [
    {
     "ename": "SyntaxError",
     "evalue": "invalid syntax (<ipython-input-50-0eb5cfa3f780>, line 19)",
     "output_type": "error",
     "traceback": [
      "\u001b[0;36m  File \u001b[0;32m\"<ipython-input-50-0eb5cfa3f780>\"\u001b[0;36m, line \u001b[0;32m19\u001b[0m\n\u001b[0;31m    ls.append({'genre': i.text_content(), 'https://anime.dmkt-sp.jp/animestore' + i.attrib['href']})\u001b[0m\n\u001b[0m                                                                                                  ^\u001b[0m\n\u001b[0;31mSyntaxError\u001b[0m\u001b[0;31m:\u001b[0m invalid syntax\n"
     ]
    }
   ],
   "source": [
    "import lxml.html as lh\n",
    "import requests as rq\n",
    "import cssselect\n",
    "from selenium import webdriver\n",
    "import time\n",
    "\n",
    "# lazy loadが読み込まれるのを待機する時間\n",
    "pause = 5\n",
    "\n",
    "\n",
    "# rootの取得\n",
    "t_url = 'https://anime.dmkt-sp.jp/animestore/gen_sel_pc'\n",
    "t_html = rq.get(turl).text\n",
    "root = lh.fromstring(t_html)\n",
    "\n",
    "# ジャンルのテキストと、リンクの取得\n",
    "ls = []\n",
    "for i in root.cssselect('.btnList > a'):\n",
    "    ls.append({'genre': i.text_content(), 'https://anime.dmkt-sp.jp/animestore' + i.attrib['href']})\n",
    "\n",
    "# 現状のls\n",
    "# [{'genre': '\\nSF/ファンタジー(733)\\n\\n', 'child_url': 'https://anime.dmkt-sp.jp/animestore/gen_pc?genreCd=11'}, {'genre': '\\nロボット/メカ(214)\\n\\n', 'child_url': 'https://anime.dmkt-sp.jp/animestore/gen_pc?genreCd=12'}, {'genre': '\\nアクション/バトル(606)\\n\\n', 'child_url': 'https://anime.dmkt-sp.jp/animestore/gen_pc?genreCd=13'}, {'genre': '\\nコメディ/ギャグ(466)\\n\\n', 'child_url': 'https://anime.dmkt-sp.jp/animestore/gen_pc?genreCd=14'}, {'genre': '\\n恋愛/ラブコメ(370)\\n\\n', 'child_url': 'https://anime.dmkt-sp.jp/animestore/gen_pc?genreCd=15'}, {'genre': '\\n日常/ほのぼの(112)\\n\\n', 'child_url': 'https://anime.dmkt-sp.jp/animestore/gen_pc?genreCd=23'}, {'genre': '\\nスポーツ/競技(122)\\n\\n', 'child_url': 'https://anime.dmkt-sp.jp/animestore/gen_pc?genreCd=16'}, {'genre': '\\nホラー/サスペンス/推理(160)\\n\\n', 'child_url': 'https://anime.dmkt-sp.jp/animestore/gen_pc?genreCd=17'}, {'genre': '\\n歴史/戦記(75)\\n\\n', 'child_url': 'https://anime.dmkt-sp.jp/animestore/gen_pc?genreCd=18'}, {'genre': '\\n戦争/ミリタリー(55)\\n\\n', 'child_url': 'https://anime.dmkt-sp.jp/animestore/gen_pc?genreCd=19'}, {'genre': '\\nドラマ/青春(556)\\n\\n', 'child_url': 'https://anime.dmkt-sp.jp/animestore/gen_pc?genreCd=20'}, {'genre': '\\nショート(218)\\n\\n', 'child_url': 'https://anime.dmkt-sp.jp/animestore/gen_pc?genreCd=22'}, {'genre': '\\n舞台/ライブ/etc.(87)\\n\\n', 'child_url': 'https://anime.dmkt-sp.jp/animestore/gen_pc?genreCd=24'}]\n",
    "\n",
    "# 1個1個子要素にアクセスするためにfor文\n",
    "for l in ls:\n",
    "    genre = l['genre']\n",
    "    c_url = l['child_url']\n",
    "\n",
    "    # seleniumのドライバにphantomJSを指定し、urlを食わせる\n",
    "    driver = webdriver.PhantomJS()\n",
    "    driver.get(curl)\n",
    "\n",
    "    # 子リソースのrootの取得\n",
    "    croot1 = lh.fromstring(driver.page_source)\n",
    "\n",
    "    # cssselectを用いて要素を取得する\n",
    "    t_element = croot1.cssselect('.webkit2LineClamp')\n",
    "\n",
    "    #lazy loadされてる部分を読み込むために、スクロールダウンしていく\n",
    "    lastHeight = driver.execute_script(\"return document.body.scrollHeight\")  # スクロールされてるか判断する部分\n",
    "    while True:\n",
    "        driver.execute_script(\"window.scrollTo(0, document.body.scrollHeight);\")  # スクロールダウン\n",
    "        time.sleep(pause)  # 読み込まれるのを待つ\n",
    "        # スクロールされてるか判断する部分\n",
    "        newHeight = driver.execute_script(\"return document.body.scrollHeight\")\n",
    "        if newHeight == lastHeight:\n",
    "            break\n",
    "        lastHeight = newHeight\n",
    "    # 全部読み込まれたタイミングで、rootの取得\n",
    "    croot = lh.fromstring(driver.page_source)\n",
    "    # cssselectを用いて、要素を指定して取得\n",
    "    ts = croot.cssselect('.webkit2LineClamp')\n",
    "    # 欲しかった作品名をリストに格納\n",
    "    c_elements = [t.text_content() for t in ts]\n",
    "    # 目標値していた、ジャンルとそれに紐づく作品の一覧\n",
    "    {genre: c_elements}"
   ]
  },
  {
   "cell_type": "code",
   "execution_count": null,
   "metadata": {
    "collapsed": true
   },
   "outputs": [],
   "source": []
  },
  {
   "cell_type": "code",
   "execution_count": null,
   "metadata": {
    "collapsed": true
   },
   "outputs": [],
   "source": []
  }
 ],
 "metadata": {
  "kernelspec": {
   "display_name": "py27",
   "language": "python",
   "name": "py27"
  },
  "language_info": {
   "codemirror_mode": {
    "name": "ipython",
    "version": 2
   },
   "file_extension": ".py",
   "mimetype": "text/x-python",
   "name": "python",
   "nbconvert_exporter": "python",
   "pygments_lexer": "ipython2",
   "version": "2.7.13"
  }
 },
 "nbformat": 4,
 "nbformat_minor": 2
}
